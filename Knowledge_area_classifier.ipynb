{
  "nbformat": 4,
  "nbformat_minor": 0,
  "metadata": {
    "colab": {
      "name": "Knowledge-area-classifier.ipynb",
      "provenance": [],
      "collapsed_sections": [],
      "toc_visible": true,
      "include_colab_link": true
    },
    "kernelspec": {
      "name": "python3",
      "display_name": "Python 3"
    }
  },
  "cells": [
    {
      "cell_type": "markdown",
      "metadata": {
        "id": "view-in-github",
        "colab_type": "text"
      },
      "source": [
        "<a href=\"https://colab.research.google.com/github/VictorCampelo/Knowledge-area-classifier-based-on-professional-description/blob/master/Knowledge_area_classifier.ipynb\" target=\"_parent\"><img src=\"https://colab.research.google.com/assets/colab-badge.svg\" alt=\"Open In Colab\"/></a>"
      ]
    },
    {
      "cell_type": "markdown",
      "metadata": {
        "id": "PL4RFctxP_mh"
      },
      "source": [
        "## Downloads e Imports"
      ]
    },
    {
      "cell_type": "code",
      "metadata": {
        "id": "Vjy-XXNEnlyy"
      },
      "source": [
        "!apt install enchant\n",
        "!pip3 install pyenchant\n",
        "!pip3 install parfit\n",
        "!pip install english-words\n",
        "# !pip3 install git+https://github.com/BoseCorp/py-googletrans.git --upgrade\n",
        "# !pip install -U textblob"
      ],
      "execution_count": null,
      "outputs": []
    },
    {
      "cell_type": "code",
      "metadata": {
        "id": "qJmEZ_Vm5O1K"
      },
      "source": [
        "import nltk\n",
        "import re\n",
        "import pandas as pd\n",
        "import enchant  # pip install pyenchant\n",
        "eng_dict = enchant.Dict(\"en_US\")\n",
        "import sys\n",
        "import matplotlib.pyplot as plt\n",
        "from sklearn.metrics import plot_confusion_matrix\n",
        "\n",
        "import numpy as np\n",
        "import nltk\n",
        "import matplotlib.pyplot as plt\n",
        "from sklearn.tree import DecisionTreeClassifier\n",
        "from sklearn.model_selection import train_test_split\n",
        "from sklearn.metrics import mean_absolute_error\n",
        "from sklearn.feature_extraction.text import CountVectorizer\n",
        "from sklearn import tree\n",
        "from nltk.stem import RSLPStemmer\n",
        "from graphviz import Source\n",
        "from collections import Counter\n",
        "from IPython.display import display\n",
        "from IPython.display import SVG\n",
        "\n",
        "from sklearn.metrics import confusion_matrix\n",
        "from sklearn.metrics import classification_report\n",
        "from sklearn.metrics import accuracy_score\n",
        "\n",
        "from nltk.tokenize import sent_tokenize, word_tokenize\n",
        "from sklearn.model_selection import cross_val_score\n",
        "\n",
        "from keras.callbacks import EarlyStopping\n",
        "from keras.callbacks import ModelCheckpoint\n",
        "from keras.callbacks import ReduceLROnPlateau\n",
        "\n",
        "from sklearn.feature_extraction.text import CountVectorizer\n",
        "from sklearn.feature_extraction.text import TfidfVectorizer\n",
        "from sklearn.model_selection import train_test_split\n",
        "from sklearn.linear_model import LogisticRegression\n",
        "from sklearn.preprocessing import LabelEncoder\n",
        "from sklearn.preprocessing import OneHotEncoder\n",
        "from sklearn.model_selection import RandomizedSearchCV\n",
        "\n",
        "from tensorflow import keras\n",
        "\n",
        "from keras.models import Sequential\n",
        "from keras import layers\n",
        "from keras.preprocessing.text import Tokenizer\n",
        "from keras.preprocessing.sequence import pad_sequences\n",
        "from keras.wrappers.scikit_learn import KerasClassifier\n",
        "\n",
        "import warnings\n",
        "warnings.simplefilter(\"ignore\")\n",
        "\n",
        "from tqdm import tqdm_notebook as tqdm\n",
        "from sklearn.model_selection import train_test_split\n",
        "from sklearn.preprocessing import LabelEncoder\n",
        "from sklearn.utils import class_weight\n",
        "from sklearn.metrics import f1_score, classification_report, log_loss\n",
        "\n",
        "from keras.preprocessing.text import Tokenizer\n",
        "from keras.preprocessing.sequence import pad_sequences\n",
        "from keras.utils import to_categorical\n",
        "\n",
        "from keras.models import Sequential\n",
        "from keras.models import Model\n",
        "from keras.layers import Embedding, LSTM, Dense, SpatialDropout1D, Bidirectional, Flatten, Input, Activation\n",
        "from keras.layers import Dropout, Conv1D, GlobalMaxPool1D, MaxPooling1D, GRU, GlobalAvgPool1D\n",
        "from keras.optimizers import Adam, Nadam\n",
        "from keras.optimizers import RMSprop\n",
        "from keras.callbacks import ModelCheckpoint, EarlyStopping\n",
        "from keras import regularizers      #for l2 regularization\n",
        "from english_words import english_words_set\n",
        "\n",
        "from nltk.corpus import words as englishWords"
      ],
      "execution_count": null,
      "outputs": []
    },
    {
      "cell_type": "code",
      "metadata": {
        "id": "3AuQ6OWQn2B_",
        "outputId": "648260ac-d43a-43b2-ad60-9f359991ca98",
        "colab": {
          "base_uri": "https://localhost:8080/",
          "height": 170
        }
      },
      "source": [
        "nltk.download('stopwords')\n",
        "nltk.download('rslp')\n",
        "nltk.download('punkt')\n",
        "nltk.download('words')"
      ],
      "execution_count": null,
      "outputs": [
        {
          "output_type": "stream",
          "text": [
            "[nltk_data] Downloading package stopwords to /root/nltk_data...\n",
            "[nltk_data]   Unzipping corpora/stopwords.zip.\n",
            "[nltk_data] Downloading package rslp to /root/nltk_data...\n",
            "[nltk_data]   Unzipping stemmers/rslp.zip.\n",
            "[nltk_data] Downloading package punkt to /root/nltk_data...\n",
            "[nltk_data]   Unzipping tokenizers/punkt.zip.\n",
            "[nltk_data] Downloading package words to /root/nltk_data...\n",
            "[nltk_data]   Unzipping corpora/words.zip.\n"
          ],
          "name": "stdout"
        },
        {
          "output_type": "execute_result",
          "data": {
            "text/plain": [
              "True"
            ]
          },
          "metadata": {
            "tags": []
          },
          "execution_count": 9
        }
      ]
    },
    {
      "cell_type": "markdown",
      "metadata": {
        "id": "g1GKP5EWQJgV"
      },
      "source": [
        "## Funções para pré-processamento"
      ]
    },
    {
      "cell_type": "code",
      "metadata": {
        "id": "9tE6crecgDC0"
      },
      "source": [
        "def clean_text(text):\n",
        "\n",
        "    text = re.sub(r'nan', r' ', text)\n",
        "    \n",
        "    regex = r\"(([a-z]{1})([0-9]{1}))\"\n",
        "    subst = \"\\\\2 \\\\3\"\n",
        "    text = re.sub(regex, subst, text, 0, re.MULTILINE)\n",
        "\n",
        "    regex = r\"(([0-9]{1})([a-z]{1}))\"\n",
        "    subst = \"\\\\2 \\\\3\"\n",
        "    text = re.sub(regex, subst, text, 0, re.MULTILINE)\n",
        "\n",
        "    regex = r\"([a-z])([A-Z])\"\n",
        "    subst = \"\\\\1 \\\\2\"\n",
        "    text = re.sub(regex, subst, text, 0, re.MULTILINE)\n",
        "    \n",
        "    text = text.lower()\n",
        "    text = re.sub(r'nome', r' ', text)\n",
        "    text = re.sub(r'empresa', r' ', text)\n",
        "    text = re.sub(r'emprego', r' ', text)\n",
        "    text = re.sub(r'período', r' ', text)\n",
        "    text = re.sub(r'momento', r' ', text)\n",
        "    text = re.sub(r'duração', r' ', text)\n",
        "    text = re.sub(r'total', r' ', text)\n",
        "    text = re.sub(r'duração', r' ', text)\n",
        "    text = re.sub(r'ano[s]*', r' ', text)\n",
        "    text = re.sub(r'dia[s]*', r' ', text)\n",
        "    text = re.sub(r'meses', r' ', text)\n",
        "    text = re.sub(r'\\d+', r' ', text)\n",
        "    text = re.sub(r\"(jan|fev|mar|abr|mai|jun|jul|ago|set|out|nov|dez)\", r' ', text)\n",
        "\n",
        "    regex = r\"\\W+n\"\n",
        "    subst = \" \"\n",
        "    text = re.sub(regex, subst, text, 0, re.MULTILINE)\n",
        "\n",
        "    regex = r\"(\\W+|\\_)\" \n",
        "    subst = \" \"\n",
        "    text = re.sub(regex, subst, text, 0, re.MULTILINE)\n",
        "    \n",
        "    # regex = r\"([^aeiou]{3})([^aeiou])\"\n",
        "    # subst = \"\\\\1 \\\\2\"\n",
        "    # text = re.sub(regex, subst, text, 0, re.MULTILINE)\n",
        "    \n",
        "    # regex = r\"([^aeiou])([^aeiou]{3})\"\n",
        "    # subst = \"\\\\1 \\\\2\"\n",
        "    # text = re.sub(regex, subst, text, 0, re.MULTILINE)\n",
        "    \n",
        "    regex = r\"\\s+[^aeiou]\\s+\"\n",
        "    subst = \" \"\n",
        "    text = re.sub(regex, subst, text, 0, re.MULTILINE)\n",
        "\n",
        "    regex = r\"\\s[^aeiou]\\s\"\n",
        "    subst = \" \"\n",
        "    text = re.sub(regex, subst, text, 0, re.MULTILINE)\n",
        "\n",
        "    text = re.sub('^\\s', '', text)  # remove extra whitespace\n",
        "    text = re.sub('\\s+', ' ', text)  # remove extra whitespace\n",
        "\n",
        "    return text\n",
        "\n",
        "def separate_df(df, pct):\n",
        "    train = pd.DataFrame(dict(text=[], target=[]),  dtype=int)\n",
        "    test = pd.DataFrame(dict(text=[], target=[]),  dtype=int)\n",
        "    targets = df.target.unique().tolist()\n",
        "    for target in targets:\n",
        "        l = round(len(df[df.target == target]) * pct)\n",
        "        for (index, line), count in zip(df[df.target == target].iterrows(), \n",
        "                                        range(len(df[df.target == target]))):\n",
        "            if(count <= l):\n",
        "                train = train.append(dict(text=line.text, target=int(target)), \n",
        "                                     ignore_index=True)\n",
        "            else:\n",
        "                test = test.append(dict(text=line.text, target=int(target)), \n",
        "                                   ignore_index=True)\n",
        "    return train, test\n",
        "\n",
        "def RemoveStopWords(sent):\n",
        "    stp = nltk.corpus.stopwords.words('portuguese')\n",
        "    listW = \"\"\n",
        "    for wrd in sent.split(\" \"):\n",
        "        if wrd not in stp:\n",
        "            listW += str(wrd)+\" \"\n",
        "    return listW\n",
        "\n",
        "def stemming(sent):\n",
        "    stp = nltk.corpus.stopwords.words('portuguese')\n",
        "    stemmer = nltk.stem.RSLPStemmer()\n",
        "    listW = []\n",
        "    for (desc, value) in sent:\n",
        "        desc = word_tokenize(desc)\n",
        "        [desc for char in desc for l in segment_str(char)]\n",
        "        \n",
        "        aux = [str(stemmer.stem(p)) for p in desc if p not in stp]\n",
        "        listW.append((aux, value))\n",
        "    return listW\n",
        "\n",
        "def tokenize(sent):\n",
        "    sent = sent.lower()\n",
        "    sent = nltk.tokenize.word_tokenize(sent, language='portuguese')\n",
        "    return sent\n",
        "\n",
        "def stemmingSimple(sent):\n",
        "    # stp = nltk.corpus.stopwords.words('portuguese')\n",
        "    stemmer = RSLPStemmer()\n",
        "    listS = []\n",
        "    # print(sent)\n",
        "    for i, wrd in enumerate(sent):\n",
        "      listW = []\n",
        "      for p in wrd.split():\n",
        "        # if p not in stp:\n",
        "        stems = stemmer.stem(p.lower())\n",
        "        listW.append(stems)\n",
        "      # print(listW)\n",
        "      listS.append(\" \".join(listW))\n",
        "    # print(listW)\n",
        "    return listS\n",
        "\n",
        "def stemmingSimpleSet(sent):\n",
        "  # stp = nltk.corpus.stopwords.words('portuguese')\n",
        "  stemmer = RSLPStemmer()\n",
        "  listS = []\n",
        "  # print(sent)\n",
        "  for i, wrd in enumerate(sent):\n",
        "    listW = []\n",
        "    for p in wrd.split():\n",
        "      # if p not in stp:\n",
        "      stems = stemmer.stem(p.lower())\n",
        "      listW.append(stems)\n",
        "    # print(listW)\n",
        "    listS.append(\" \".join(set(listW)))\n",
        "  # print(listW)\n",
        "  return listS\n",
        "\n",
        "def addAllWords(sent):\n",
        "    words = []\n",
        "    for (desc, value) in sent:\n",
        "        words.extend(desc)\n",
        "    return words\n",
        "\n",
        "def freqWords(sent):\n",
        "    wrds = nltk.FreqDist(sent)\n",
        "    return wrds\n",
        "\n",
        "def uniqueWords(sent):\n",
        "    freq = sent.keys()\n",
        "    return freq\n",
        "\n",
        "def extractWords(sent):\n",
        "    doc = set(sent)\n",
        "    characteristics = {}\n",
        "    for wdr in u_words_train:\n",
        "        characteristics['%s' % wdr] = (wdr in doc)\n",
        "    return characteristics\n",
        "\n",
        "def makeAcuracy(tree,x_test,y_test):\n",
        "    predictions = clf.predict(x_test)\n",
        "    erro = 0.0\n",
        "    for x in range(len(predictions)):\n",
        "        if predictions[x] != y_test[x]:\n",
        "            erro += 1.\n",
        "    acuracy = (1-(erro/len(predictions)))\n",
        "    return acuracy\n",
        "\n",
        "def segment_str(chars, exclude=None):\n",
        "    words = []\n",
        "\n",
        "    if not chars.isalpha():  # don't check punctuation etc.; needs more work\n",
        "        return [chars]\n",
        "\n",
        "    if not exclude:\n",
        "        exclude = set()\n",
        "\n",
        "    working_chars = chars\n",
        "    while working_chars:\n",
        "        # iterate through segments of the chars starting with the longest segment possible\n",
        "        for i in range(len(working_chars), 1, -1):\n",
        "            segment = working_chars[:i]\n",
        "            if eng_dict.check(segment) and segment not in exclude:\n",
        "                words.append(segment)\n",
        "                working_chars = working_chars[i:]\n",
        "                break\n",
        "        else:  # no matching segments were found\n",
        "            if words:\n",
        "                exclude.add(words[-1])\n",
        "                return segment_str(chars, exclude=exclude)\n",
        "            # let the user know a word was missing from the dictionary,\n",
        "            # but keep the word\n",
        "            # print('\"{chars}\" not in dictionary (so just keeping as one segment)!'\n",
        "            #       .format(chars=chars))\n",
        "            return [chars]\n",
        "    # return a list of words based on the segmentation\n",
        "    return words\n",
        "\n",
        "def translator(sent):\n",
        "  trans_sent = []\n",
        "  for wrd in sent.split(\" \"):\n",
        "    if wrd in dictionary:\n",
        "      trans_sent.append(dictionary[wrd])\n",
        "    else:\n",
        "      trans_sent.append(wrd)\n",
        "  return \" \".join(trans_sent)\n",
        "\n",
        "def find_english_words(sent):\n",
        "  trans_sent = []\n",
        "  for wrd in sent.split(\" \"):\n",
        "    if wrd in english_words_set:\n",
        "      trans_sent.append(wrd)\n",
        "  return \" \".join(trans_sent)\n",
        "  \n",
        "  \n",
        "def models(X_train, Y_train, X_test, Y_test):\n",
        "  from sklearn.linear_model import LogisticRegression\n",
        "  log = LogisticRegression(class_weight='balanced', random_state = 0)\n",
        "  log.fit(X_train, Y_train)\n",
        "  log_pred = log.predict(X_test)\n",
        "\n",
        "  from sklearn.neighbors import KNeighborsClassifier\n",
        "  knn = KNeighborsClassifier(n_neighbors = 5, metric = 'minkowski', p = 2)\n",
        "  knn.fit(X_train, Y_train)\n",
        "  knn_pred = knn.predict(X_test)\n",
        "\n",
        "  from sklearn.svm import SVC\n",
        "  svc_lin = SVC(kernel='linear', random_state = 0, class_weight='balanced')\n",
        "  svc_lin.fit(X_train, Y_train)\n",
        "  svc_lin_pred = svc_lin.predict(X_test)\n",
        "\n",
        "  from sklearn.svm import SVC\n",
        "  svc_rbf = SVC(kernel='rbf', random_state = 0)\n",
        "  svc_rbf.fit(X_train, Y_train)\n",
        "  svc_rbf_pred = svc_rbf.predict(X_test)\n",
        "\n",
        "  from sklearn.tree import DecisionTreeClassifier\n",
        "  tree = DecisionTreeClassifier(criterion = 'entropy', random_state = 0, class_weight='balanced')\n",
        "  tree.fit (X_train, Y_train)\n",
        "  tree_pred = tree.predict(X_test)\n",
        "\n",
        "  from sklearn.ensemble import RandomForestClassifier\n",
        "  forest = RandomForestClassifier(criterion = 'entropy', random_state = 0, class_weight='balanced')\n",
        "  forest.fit(X_train, Y_train)\n",
        "  forest_pred = forest.predict(X_test)\n",
        "\n",
        "  from sklearn.linear_model import Perceptron\n",
        "  pcp = Perceptron(random_state = 0, class_weight='balanced')\n",
        "  pcp.fit(X_train, Y_train)\n",
        "  pcp_pred = pcp.predict(X_test)\n",
        "\n",
        "  from sklearn.naive_bayes import BernoulliNB, ComplementNB, MultinomialNB\n",
        "  mnb = MultinomialNB(alpha=.01)\n",
        "  mnb.fit(X_train, Y_train)\n",
        "  mnb_pred = mnb.predict(X_test)\n",
        "\n",
        "  bnb = BernoulliNB(alpha=.01)\n",
        "  bnb.fit(X_train, Y_train)\n",
        "  bnb_pred = bnb.predict(X_test)\n",
        "\n",
        "  cnb = ComplementNB(alpha=.1)\n",
        "  cnb.fit(X_train, Y_train)\n",
        "  cnb_pred = cnb.predict(X_test)\n",
        "  \n",
        "  from sklearn.linear_model import SGDClassifier\n",
        "  sgdc = SGDClassifier(random_state = 0, class_weight='balanced')\n",
        "  sgdc.fit(X_train, Y_train)\n",
        "  sgdc_pred = sgdc.predict(X_test)\n",
        "\n",
        "  print('[0]Logistic Regression Training Accuracy: ', log.score(X_train, Y_train))\n",
        "  print('[0]Logistic Regression Cross_val Accuracy: ', np.mean(cross_val_score(log, X_train, Y_train, cv=10)))\n",
        "  print('[0]Logistic Regression Testing Accuracy: ', accuracy_score(Y_test, log_pred))\n",
        "  print(classification_report(Y_test, log_pred))\n",
        "\n",
        "  # plot_confusion_matrix(log, X_test, Y_test)\n",
        "\n",
        "  print('[1]KNeighborns Training Accuracy: ', knn.score(X_train, Y_train))\n",
        "  print('[1]KNeighborns Training Cross_val Accuracy: ', np.mean(cross_val_score(knn, X_train, Y_train, cv=10)))\n",
        "  print('[1]KNeighborns Testing Accuracy: ', accuracy_score(Y_test, knn_pred))\n",
        "  print(classification_report(Y_test, knn_pred))\n",
        "\n",
        "  print('[2]SVC Linear Training Accuracy: ', svc_lin.score(X_train, Y_train))\n",
        "  print('[2]SVC Linear Training Cross_val Accuracy: ', np.mean(cross_val_score(svc_lin, X_train, Y_train, cv=10)))\n",
        "  print('[2]SVC Linear Testing Accuracy: ', accuracy_score(Y_test, svc_lin_pred))\n",
        "  print(classification_report(Y_test, svc_lin_pred))\n",
        "\n",
        "  print('[3]SVC RBF Training Accuracy: ', svc_rbf.score(X_train, Y_train))\n",
        "  print('[3]SVC RBF Training Cross_val Accuracy: ', np.mean(cross_val_score(svc_rbf, X_train, Y_train, cv=10)))\n",
        "  print('[3]SVC RBF Testing Accuracy: ', accuracy_score(Y_test, svc_rbf_pred))\n",
        "  print(classification_report(Y_test, svc_rbf_pred))\n",
        "\n",
        "  print('[4]Decision Tree Training Accuracy: ', tree.score(X_train, Y_train))\n",
        "  print('[4]Decision Tree Training Cross_val Accuracy: ', np.mean(cross_val_score(tree, X_train, Y_train, cv=10)))\n",
        "  print('[4]Decision Tree Testing Accuracy: ', accuracy_score(Y_test, tree_pred))\n",
        "  print(classification_report(Y_test, tree_pred))\n",
        "\n",
        "  print('[5]Random Forest Training Accuracy: ', forest.score(X_train, Y_train))\n",
        "  print('[5]Random Forest Training Cross_val Accuracy: ', np.mean(cross_val_score(forest, X_train, Y_train, cv=10)))\n",
        "  print('[5]Random Forest Testing Accuracy: ', accuracy_score(Y_test, forest_pred))\n",
        "  print(classification_report(Y_test, forest_pred))\n",
        "\n",
        "  print('[6] Perceptron Training Accuracy: ', pcp.score(X_train, Y_train))\n",
        "  print('[6] Perceptron Training Cross_val Accuracy: ',  np.mean(cross_val_score(pcp, X_train, Y_train, cv=10)))\n",
        "  print(\"[6] Perceptron Testing accuracy: \", accuracy_score(y_test, pcp_pred))\n",
        "  print(classification_report(Y_test, pcp_pred))\n",
        "\n",
        "  print('[7] MultinomialNB Training Accuracy: ', mnb.score(X_train, Y_train))\n",
        "  print('[7] MultinomialNB Training Cross_val Accuracy: ',  np.mean(cross_val_score(mnb, X_train, Y_train, cv=10)))\n",
        "  print(\"[7] MultinomialNB Testing accuracy: \", accuracy_score(Y_test, mnb_pred))\n",
        "  print(classification_report(Y_test, pcp_pred))\n",
        "\n",
        "  print('[8] BernoulliNB Training Accuracy: ', bnb.score(X_train, Y_train))\n",
        "  print('[8] BernoulliNB Training Cross_val Accuracy: ',  np.mean(cross_val_score(bnb, X_train, Y_train, cv=10)))\n",
        "  print(\"[8] BernoulliNB Testing accuracy: \", accuracy_score(Y_test, bnb_pred))\n",
        "  print(classification_report(Y_test, pcp_pred))\n",
        "\n",
        "  print('[9] ComplementNB Training Accuracy: ', cnb.score(X_train, Y_train))\n",
        "  print('[9] ComplementNB Training Cross_val Accuracy: ',  np.mean(cross_val_score(cnb, X_train, Y_train, cv=10)))\n",
        "  print(\"[9] ComplementNB Testing accuracy: \", accuracy_score(Y_test, cnb_pred))\n",
        "  print(classification_report(Y_test, pcp_pred))\n",
        "\n",
        "  print('[10] SGDClassifier Training Accuracy: ', sgdc.score(X_train, Y_train))\n",
        "  print('[10] SGDClassifier Training Cross_val Accuracy: ',  np.mean(cross_val_score(sgdc, X_train, Y_train, cv=10)))\n",
        "  print(\"[10] SGDClassifier Testing accuracy: \", accuracy_score(Y_test, sgdc_pred))\n",
        "  print(classification_report(Y_test, sgdc_pred))\n",
        "\n",
        "  n_list = [np.mean(cross_val_score(knn, X_train, Y_train, cv=10)), \n",
        "            np.mean(cross_val_score(svc_lin, X_train, Y_train, cv=10)), \n",
        "            np.mean(cross_val_score(svc_rbf, X_train, Y_train, cv=10)), \n",
        "            np.mean(cross_val_score(tree, X_train, Y_train, cv=10)),\n",
        "            np.mean(cross_val_score(forest, X_train, Y_train, cv=10)), \n",
        "            np.mean(cross_val_score(pcp, X_train, Y_train, cv=10)),\n",
        "            np.mean(cross_val_score(mnb, X_train, Y_train, cv=10)), \n",
        "            np.mean(cross_val_score(bnb, X_train, Y_train, cv=10)),\n",
        "            np.mean(cross_val_score(cnb, X_train, Y_train, cv=10)), \n",
        "            np.mean(cross_val_score(sgdc, X_train, Y_train, cv=10))]\n",
        "  n_max = max(n_list)\n",
        "  n_pos = n_list.index(n_max)\n",
        "  models = [log, knn, svc_lin, svc_rbf, tree, forest, pcp, mnb, bnb, cnb, sgdc]\n",
        "  print(models[n_pos+1])\n",
        "  return models[n_pos+1]"
      ],
      "execution_count": null,
      "outputs": []
    },
    {
      "cell_type": "markdown",
      "metadata": {
        "id": "FWu5ZpfYQQqn"
      },
      "source": [
        "##  EDA. Exploração dos dados"
      ]
    },
    {
      "cell_type": "code",
      "metadata": {
        "id": "4zLkfYG-5c3l",
        "outputId": "2200a91c-01d7-49a0-87a7-ed92b313fcfb",
        "colab": {
          "base_uri": "https://localhost:8080/",
          "height": 54
        }
      },
      "source": [
        "df = pd.read_csv('/content/drive/My Drive/Colab Notebooks/lkd_complet.csv', error_bad_lines=False)"
      ],
      "execution_count": null,
      "outputs": [
        {
          "output_type": "stream",
          "text": [
            "b'Skipping line 3: expected 11 fields, saw 18\\nSkipping line 5: expected 11 fields, saw 36\\nSkipping line 45: expected 11 fields, saw 17\\nSkipping line 51: expected 11 fields, saw 19\\nSkipping line 86: expected 11 fields, saw 12\\nSkipping line 171: expected 11 fields, saw 36\\nSkipping line 173: expected 11 fields, saw 14\\nSkipping line 174: expected 11 fields, saw 18\\nSkipping line 185: expected 11 fields, saw 23\\nSkipping line 207: expected 11 fields, saw 34\\nSkipping line 254: expected 11 fields, saw 12\\nSkipping line 258: expected 11 fields, saw 15\\nSkipping line 268: expected 11 fields, saw 13\\nSkipping line 273: expected 11 fields, saw 77\\nSkipping line 274: expected 11 fields, saw 30\\nSkipping line 275: expected 11 fields, saw 17\\nSkipping line 282: expected 11 fields, saw 18\\nSkipping line 291: expected 11 fields, saw 16\\nSkipping line 311: expected 11 fields, saw 34\\nSkipping line 326: expected 11 fields, saw 77\\nSkipping line 328: expected 11 fields, saw 12\\nSkipping line 362: expected 11 fields, saw 19\\nSkipping line 366: expected 11 fields, saw 13\\nSkipping line 377: expected 11 fields, saw 12\\nSkipping line 393: expected 11 fields, saw 12\\nSkipping line 422: expected 11 fields, saw 14\\nSkipping line 426: expected 11 fields, saw 50\\nSkipping line 428: expected 11 fields, saw 14\\nSkipping line 431: expected 11 fields, saw 12\\nSkipping line 443: expected 11 fields, saw 19\\nSkipping line 475: expected 11 fields, saw 22\\nSkipping line 476: expected 11 fields, saw 20\\nSkipping line 487: expected 11 fields, saw 20\\nSkipping line 492: expected 11 fields, saw 13\\nSkipping line 535: expected 11 fields, saw 27\\nSkipping line 536: expected 11 fields, saw 38\\nSkipping line 538: expected 11 fields, saw 15\\nSkipping line 596: expected 11 fields, saw 14\\nSkipping line 638: expected 11 fields, saw 44\\nSkipping line 639: expected 11 fields, saw 15\\nSkipping line 649: expected 11 fields, saw 24\\nSkipping line 650: expected 11 fields, saw 36\\nSkipping line 663: expected 11 fields, saw 17\\nSkipping line 668: expected 11 fields, saw 61\\nSkipping line 728: expected 11 fields, saw 69\\nSkipping line 732: expected 11 fields, saw 18\\nSkipping line 735: expected 11 fields, saw 12\\nSkipping line 743: expected 11 fields, saw 23\\nSkipping line 747: expected 11 fields, saw 14\\nSkipping line 749: expected 11 fields, saw 40\\nSkipping line 757: expected 11 fields, saw 18\\nSkipping line 820: expected 11 fields, saw 14\\nSkipping line 827: expected 11 fields, saw 30\\nSkipping line 829: expected 11 fields, saw 12\\nSkipping line 830: expected 11 fields, saw 14\\nSkipping line 837: expected 11 fields, saw 77\\nSkipping line 848: expected 11 fields, saw 14\\nSkipping line 849: expected 11 fields, saw 13\\nSkipping line 859: expected 11 fields, saw 45\\nSkipping line 863: expected 11 fields, saw 68\\nSkipping line 870: expected 11 fields, saw 12\\nSkipping line 872: expected 11 fields, saw 23\\nSkipping line 874: expected 11 fields, saw 67\\nSkipping line 876: expected 11 fields, saw 43\\nSkipping line 889: expected 11 fields, saw 14\\nSkipping line 891: expected 11 fields, saw 13\\nSkipping line 920: expected 11 fields, saw 35\\nSkipping line 924: expected 11 fields, saw 12\\nSkipping line 929: expected 11 fields, saw 17\\nSkipping line 946: expected 11 fields, saw 15\\nSkipping line 955: expected 11 fields, saw 77\\nSkipping line 969: expected 11 fields, saw 28\\nSkipping line 997: expected 11 fields, saw 77\\nSkipping line 1026: expected 11 fields, saw 12\\nSkipping line 1055: expected 11 fields, saw 14\\nSkipping line 1097: expected 11 fields, saw 39\\nSkipping line 1100: expected 11 fields, saw 16\\nSkipping line 1108: expected 11 fields, saw 14\\nSkipping line 1109: expected 11 fields, saw 33\\nSkipping line 1113: expected 11 fields, saw 50\\nSkipping line 1114: expected 11 fields, saw 20\\nSkipping line 1129: expected 11 fields, saw 77\\nSkipping line 1140: expected 11 fields, saw 16\\nSkipping line 1141: expected 11 fields, saw 17\\nSkipping line 1145: expected 11 fields, saw 21\\nSkipping line 1148: expected 11 fields, saw 31\\nSkipping line 1151: expected 11 fields, saw 19\\nSkipping line 1154: expected 11 fields, saw 22\\nSkipping line 1156: expected 11 fields, saw 30\\nSkipping line 1158: expected 11 fields, saw 18\\nSkipping line 1167: expected 11 fields, saw 12\\nSkipping line 1173: expected 11 fields, saw 56\\nSkipping line 1251: expected 11 fields, saw 12\\nSkipping line 1282: expected 11 fields, saw 77\\nSkipping line 1329: expected 11 fields, saw 13\\nSkipping line 1331: expected 11 fields, saw 14\\nSkipping line 1332: expected 11 fields, saw 14\\nSkipping line 1336: expected 11 fields, saw 17\\nSkipping line 1382: expected 11 fields, saw 15\\nSkipping line 1402: expected 11 fields, saw 12\\nSkipping line 1414: expected 11 fields, saw 16\\nSkipping line 1442: expected 11 fields, saw 17\\nSkipping line 1446: expected 11 fields, saw 35\\nSkipping line 1447: expected 11 fields, saw 18\\nSkipping line 1483: expected 11 fields, saw 17\\nSkipping line 1486: expected 11 fields, saw 35\\nSkipping line 1489: expected 11 fields, saw 18\\nSkipping line 1499: expected 11 fields, saw 12\\nSkipping line 1506: expected 11 fields, saw 20\\nSkipping line 1509: expected 11 fields, saw 77\\nSkipping line 1562: expected 11 fields, saw 17\\nSkipping line 1599: expected 11 fields, saw 24\\nSkipping line 1607: expected 11 fields, saw 19\\nSkipping line 1611: expected 11 fields, saw 14\\nSkipping line 1630: expected 11 fields, saw 23\\nSkipping line 1634: expected 11 fields, saw 13\\nSkipping line 1989: expected 11 fields, saw 77\\nSkipping line 2061: expected 11 fields, saw 34\\nSkipping line 2063: expected 11 fields, saw 20\\nSkipping line 2066: expected 11 fields, saw 27\\nSkipping line 2068: expected 11 fields, saw 20\\n'\n"
          ],
          "name": "stderr"
        }
      ]
    },
    {
      "cell_type": "code",
      "metadata": {
        "id": "3RWRQI0k915g",
        "outputId": "10b17ca1-6c57-4ddb-da95-61e3614fbab2",
        "colab": {
          "base_uri": "https://localhost:8080/",
          "height": 1000
        }
      },
      "source": [
        "df.head(3)"
      ],
      "execution_count": null,
      "outputs": [
        {
          "output_type": "execute_result",
          "data": {
            "text/html": [
              "<div>\n",
              "<style scoped>\n",
              "    .dataframe tbody tr th:only-of-type {\n",
              "        vertical-align: middle;\n",
              "    }\n",
              "\n",
              "    .dataframe tbody tr th {\n",
              "        vertical-align: top;\n",
              "    }\n",
              "\n",
              "    .dataframe thead th {\n",
              "        text-align: right;\n",
              "    }\n",
              "</style>\n",
              "<table border=\"1\" class=\"dataframe\">\n",
              "  <thead>\n",
              "    <tr style=\"text-align: right;\">\n",
              "      <th></th>\n",
              "      <th>id</th>\n",
              "      <th>category</th>\n",
              "      <th>sub_category</th>\n",
              "      <th>url</th>\n",
              "      <th>image_url</th>\n",
              "      <th>about</th>\n",
              "      <th>experience</th>\n",
              "      <th>name</th>\n",
              "      <th>title</th>\n",
              "      <th>location</th>\n",
              "      <th>skills</th>\n",
              "    </tr>\n",
              "  </thead>\n",
              "  <tbody>\n",
              "    <tr>\n",
              "      <th>0</th>\n",
              "      <td>47</td>\n",
              "      <td>Administracao</td>\n",
              "      <td>Administração</td>\n",
              "      <td>https://br.linkedin.com/in/leandrovieira</td>\n",
              "      <td>https://media-exp1.licdn.com/dms/image/C4E03AQ...</td>\n",
              "      <td>Fundador e CEO do Administradores.com, Mestre ...</td>\n",
              "      <td>Founder &amp; CEONome da empresaAdministradores.co...</td>\n",
              "      <td>Leandro Vieira</td>\n",
              "      <td>Founder and CEO at Administradores.com</td>\n",
              "      <td>João Pessoa e Região, Brasil</td>\n",
              "      <td>['\\nBusiness Strategy\\n', '\\nStart-ups\\n', '\\n...</td>\n",
              "    </tr>\n",
              "    <tr>\n",
              "      <th>1</th>\n",
              "      <td>49</td>\n",
              "      <td>Administracao</td>\n",
              "      <td>Administração</td>\n",
              "      <td>https://br.linkedin.com/in/vicentefalconi</td>\n",
              "      <td>https://media-exp1.licdn.com/dms/image/C5603AQ...</td>\n",
              "      <td>Vicente Falconi Campos nasceu em Niterói, Rio ...</td>\n",
              "      <td>Sócio-fundador e Presidente do Conselho de Adm...</td>\n",
              "      <td>Vicente Falconi</td>\n",
              "      <td>Sócio-fundador e Membro do Conselho de Adminis...</td>\n",
              "      <td>Brasil</td>\n",
              "      <td>[]</td>\n",
              "    </tr>\n",
              "    <tr>\n",
              "      <th>2</th>\n",
              "      <td>51</td>\n",
              "      <td>Administracao</td>\n",
              "      <td>Administração</td>\n",
              "      <td>https://br.linkedin.com/in/paulo-neto-201a7b13b</td>\n",
              "      <td>https://media-exp1.licdn.com/dms/image/C4D03AQ...</td>\n",
              "      <td>Nossa empresa é especializada em Gestão Comerc...</td>\n",
              "      <td>Diretor de vendas e marketingNome da empresaIk...</td>\n",
              "      <td>Paulo Neto .'.</td>\n",
              "      <td>Diretor de vendas e marketing | Ikarus Adminis...</td>\n",
              "      <td>Santos, São Paulo, Brasil</td>\n",
              "      <td>['\\nLiderança de equipe\\n', '\\nEstratégia empr...</td>\n",
              "    </tr>\n",
              "    <tr>\n",
              "      <th>3</th>\n",
              "      <td>52</td>\n",
              "      <td>Administracao</td>\n",
              "      <td>Administração</td>\n",
              "      <td>https://br.linkedin.com/in/ericafialho</td>\n",
              "      <td>https://media-exp1.licdn.com/dms/image/C4E03AQ...</td>\n",
              "      <td>Administração do contrato de Parceria Público-...</td>\n",
              "      <td>Diretora ExecutivaNome da empresaHELA Administ...</td>\n",
              "      <td>Érica Fialho</td>\n",
              "      <td>Diretora Executiva na HELA Administração, Gest...</td>\n",
              "      <td>Salvador, Bahia, Brasil</td>\n",
              "      <td>['\\nMicrosoft Project\\n', '\\nPlanejamento estr...</td>\n",
              "    </tr>\n",
              "    <tr>\n",
              "      <th>4</th>\n",
              "      <td>53</td>\n",
              "      <td>Administracao</td>\n",
              "      <td>Administração</td>\n",
              "      <td>https://br.linkedin.com/in/marcelo-gagliardi-8...</td>\n",
              "      <td>data:image/gif;base64,R0lGODlhAQABAIAAAAAAAP//...</td>\n",
              "      <td>No âmbito da área Educacional, é mestre em Ges...</td>\n",
              "      <td>Coordenador de Cursos (Graduação e Pós-Graduaç...</td>\n",
              "      <td>Marcelo Gagliardi</td>\n",
              "      <td>Coordenador - UniCEUB - Centro Universitário d...</td>\n",
              "      <td>Brasília, Distrito Federal, Brasil</td>\n",
              "      <td>['\\nDocência\\n', '\\nInglês\\n', '\\nPesquisa\\n']</td>\n",
              "    </tr>\n",
              "    <tr>\n",
              "      <th>...</th>\n",
              "      <td>...</td>\n",
              "      <td>...</td>\n",
              "      <td>...</td>\n",
              "      <td>...</td>\n",
              "      <td>...</td>\n",
              "      <td>...</td>\n",
              "      <td>...</td>\n",
              "      <td>...</td>\n",
              "      <td>...</td>\n",
              "      <td>...</td>\n",
              "      <td>...</td>\n",
              "    </tr>\n",
              "    <tr>\n",
              "      <th>1982</th>\n",
              "      <td>2219</td>\n",
              "      <td>saúde</td>\n",
              "      <td>Nutrição</td>\n",
              "      <td>https://br.linkedin.com/in/nath%C3%A1lia-rodri...</td>\n",
              "      <td>https://media-exp1.licdn.com/dms/image/C4E03AQ...</td>\n",
              "      <td>Doutora em Ciência e Tecnologia de Alimentos. ...</td>\n",
              "      <td>Nome da empresaEstácioDuração total1 ano 9 mes...</td>\n",
              "      <td>Nathália Rodrigues</td>\n",
              "      <td>Coordenadora do Curso de Nutrição na Estácio</td>\n",
              "      <td>260 conexões</td>\n",
              "      <td>['\\nDesenvolvimento de produtos\\n', '\\nSeguran...</td>\n",
              "    </tr>\n",
              "    <tr>\n",
              "      <th>1983</th>\n",
              "      <td>2220</td>\n",
              "      <td>saúde</td>\n",
              "      <td>Nutrição</td>\n",
              "      <td>https://br.linkedin.com/in/gustavo-luiz-53434846</td>\n",
              "      <td>https://media-exp1.licdn.com/dms/image/C4D03AQ...</td>\n",
              "      <td>Formado em Educação Física, trabalhou por 5 an...</td>\n",
              "      <td>NutricionistaNome da empresaGustavo Luiz Nutri...</td>\n",
              "      <td>Gustavo Luiz</td>\n",
              "      <td>Nutricionista em São Bernardo | Grande ABC</td>\n",
              "      <td>São Bernardo do Campo, São Paulo, Brasil</td>\n",
              "      <td>[]</td>\n",
              "    </tr>\n",
              "    <tr>\n",
              "      <th>1984</th>\n",
              "      <td>2221</td>\n",
              "      <td>saúde</td>\n",
              "      <td>Nutrição</td>\n",
              "      <td>https://br.linkedin.com/in/ta%C3%ADs-malheiros...</td>\n",
              "      <td>https://media-exp1.licdn.com/dms/image/C4D03AQ...</td>\n",
              "      <td>Acredito que a sua saúde vem do equilíbrio ent...</td>\n",
              "      <td>Nome da empresaEstima NutricaoDuração total3 a...</td>\n",
              "      <td>Taís Malheiros</td>\n",
              "      <td>Nutricionista Funcional e Esportiva</td>\n",
              "      <td>São Paulo, São Paulo, Brasil</td>\n",
              "      <td>[]</td>\n",
              "    </tr>\n",
              "    <tr>\n",
              "      <th>1985</th>\n",
              "      <td>2222</td>\n",
              "      <td>saúde</td>\n",
              "      <td>Nutrição</td>\n",
              "      <td>https://br.linkedin.com/in/cinara-oliveira-077...</td>\n",
              "      <td>https://media-exp1.licdn.com/dms/image/C4E03AQ...</td>\n",
              "      <td>Experiência nas Áreas: Personal Diet, Saúde Co...</td>\n",
              "      <td>Professora da Faculdade de NutriçãoNome da emp...</td>\n",
              "      <td>Cinara Oliveira</td>\n",
              "      <td>Professora Faculdade de Nutrição na Universida...</td>\n",
              "      <td>Rio de Janeiro, Rio de Janeiro, Brasil</td>\n",
              "      <td>['\\nNutrição\\n', '\\nBem-estar\\n', '\\nNutrition...</td>\n",
              "    </tr>\n",
              "    <tr>\n",
              "      <th>1986</th>\n",
              "      <td>2223</td>\n",
              "      <td>saúde</td>\n",
              "      <td>Nutrição</td>\n",
              "      <td>https://br.linkedin.com/in/catiamedeirosatualn...</td>\n",
              "      <td>https://media-exp1.licdn.com/dms/image/C4E03AQ...</td>\n",
              "      <td>Specialties: Especialista em nutrição clínica</td>\n",
              "      <td>Responsável Técnica e NutricionistaNome da emp...</td>\n",
              "      <td>Cátia Medeiros</td>\n",
              "      <td>Responsável Técnica e Nutricionista na Atual N...</td>\n",
              "      <td>São Paulo, São Paulo, Brasil</td>\n",
              "      <td>[]</td>\n",
              "    </tr>\n",
              "  </tbody>\n",
              "</table>\n",
              "<p>1987 rows × 11 columns</p>\n",
              "</div>"
            ],
            "text/plain": [
              "        id  ...                                             skills\n",
              "0       47  ...  ['\\nBusiness Strategy\\n', '\\nStart-ups\\n', '\\n...\n",
              "1       49  ...                                                 []\n",
              "2       51  ...  ['\\nLiderança de equipe\\n', '\\nEstratégia empr...\n",
              "3       52  ...  ['\\nMicrosoft Project\\n', '\\nPlanejamento estr...\n",
              "4       53  ...     ['\\nDocência\\n', '\\nInglês\\n', '\\nPesquisa\\n']\n",
              "...    ...  ...                                                ...\n",
              "1982  2219  ...  ['\\nDesenvolvimento de produtos\\n', '\\nSeguran...\n",
              "1983  2220  ...                                                 []\n",
              "1984  2221  ...                                                 []\n",
              "1985  2222  ...  ['\\nNutrição\\n', '\\nBem-estar\\n', '\\nNutrition...\n",
              "1986  2223  ...                                                 []\n",
              "\n",
              "[1987 rows x 11 columns]"
            ]
          },
          "metadata": {
            "tags": []
          },
          "execution_count": 12
        }
      ]
    },
    {
      "cell_type": "markdown",
      "metadata": {
        "id": "piFaNCYuQsxA"
      },
      "source": [
        "#### Substituindo dados nulos"
      ]
    },
    {
      "cell_type": "code",
      "metadata": {
        "id": "Qm7se4bk55dI",
        "outputId": "bdf4c2a1-aaa4-4685-ebc3-953ee939adab",
        "colab": {
          "base_uri": "https://localhost:8080/",
          "height": 221
        }
      },
      "source": [
        "df.isna().sum()"
      ],
      "execution_count": null,
      "outputs": [
        {
          "output_type": "execute_result",
          "data": {
            "text/plain": [
              "id                0\n",
              "category          0\n",
              "sub_category      0\n",
              "url               0\n",
              "image_url        34\n",
              "about           580\n",
              "experience      111\n",
              "name             34\n",
              "title            34\n",
              "location         34\n",
              "skills            0\n",
              "dtype: int64"
            ]
          },
          "metadata": {
            "tags": []
          },
          "execution_count": 13
        }
      ]
    },
    {
      "cell_type": "code",
      "metadata": {
        "id": "MUXm5qIHAV91"
      },
      "source": [
        "df.fillna(\" \", inplace=True)"
      ],
      "execution_count": null,
      "outputs": []
    },
    {
      "cell_type": "code",
      "metadata": {
        "id": "zaUUPRTM6G48",
        "outputId": "536c3863-f66a-478b-a1b2-71cd35b3e21b",
        "colab": {
          "base_uri": "https://localhost:8080/",
          "height": 85
        }
      },
      "source": [
        "df.category.unique()"
      ],
      "execution_count": null,
      "outputs": [
        {
          "output_type": "execute_result",
          "data": {
            "text/plain": [
              "array(['Administracao', 'Arte e Desing', 'Ciências Biológicas e da Terra',\n",
              "       'Análise e Desenvolvimento de Sistemas',\n",
              "       'Ciências Sociais e Humanas', 'Comunicação e Informação',\n",
              "       'Engenharia e Produção', 'saúde'], dtype=object)"
            ]
          },
          "metadata": {
            "tags": []
          },
          "execution_count": 15
        }
      ]
    },
    {
      "cell_type": "code",
      "metadata": {
        "id": "YprH1lpK6QsD",
        "outputId": "4572f538-83d3-4f20-a73d-eb712fdf0dd2",
        "colab": {
          "base_uri": "https://localhost:8080/",
          "height": 34
        }
      },
      "source": [
        "len(df.sub_category.unique())"
      ],
      "execution_count": null,
      "outputs": [
        {
          "output_type": "execute_result",
          "data": {
            "text/plain": [
              "207"
            ]
          },
          "metadata": {
            "tags": []
          },
          "execution_count": 16
        }
      ]
    },
    {
      "cell_type": "code",
      "metadata": {
        "id": "oc5Hr7sN6T7i",
        "outputId": "2a5c3382-30fe-477e-a39d-329c22bdd778",
        "colab": {
          "base_uri": "https://localhost:8080/",
          "height": 68
        }
      },
      "source": [
        "df.columns"
      ],
      "execution_count": null,
      "outputs": [
        {
          "output_type": "execute_result",
          "data": {
            "text/plain": [
              "Index(['id', 'category', 'sub_category', 'url', 'image_url', 'about',\n",
              "       'experience', 'name', 'title', 'location', 'skills'],\n",
              "      dtype='object')"
            ]
          },
          "metadata": {
            "tags": []
          },
          "execution_count": 17
        }
      ]
    },
    {
      "cell_type": "markdown",
      "metadata": {
        "id": "a6S_LXBAQ4ne"
      },
      "source": [
        "#### Remoção de colunas desnecessárias"
      ]
    },
    {
      "cell_type": "code",
      "metadata": {
        "id": "HW8pbV0v7sqW"
      },
      "source": [
        "df.drop(columns=['id', 'url', 'image_url', 'name', 'location'], inplace=True)"
      ],
      "execution_count": null,
      "outputs": []
    },
    {
      "cell_type": "code",
      "metadata": {
        "id": "kkjQbO34ro7i"
      },
      "source": [
        "# df[['about', 'experience', 'title', 'skills']].apply(lambda x : '{} {} {} {}'.format(x[0],x[1], x[2], x[3]), axis=1)"
      ],
      "execution_count": null,
      "outputs": []
    },
    {
      "cell_type": "markdown",
      "metadata": {
        "id": "XZZKbTNsRFyJ"
      },
      "source": [
        "#### Formação do corpus. Concatenação de colunas"
      ]
    },
    {
      "cell_type": "code",
      "metadata": {
        "id": "coenxQ-cg15o"
      },
      "source": [
        "df['text'] = df[['about', 'experience', 'title', 'skills']].apply(\n",
        "    lambda x : '{} {} {} {}'.format(x[0],x[1], x[2], x[3]), axis=1)\n",
        "df['target'] = df['category']\n",
        "\n",
        "df.drop(columns=['about', 'experience', 'title', 'skills'], inplace=True)"
      ],
      "execution_count": null,
      "outputs": []
    },
    {
      "cell_type": "markdown",
      "metadata": {
        "id": "SM1J1fA2RNxn"
      },
      "source": [
        "#### Convensão dos valores das classes em valores númericos"
      ]
    },
    {
      "cell_type": "code",
      "metadata": {
        "id": "jj6EKn81ghvC"
      },
      "source": [
        "from sklearn import preprocessing\n",
        "le = preprocessing.LabelEncoder()\n",
        "le.fit(df.target.unique().tolist())\n",
        "le.classes_\n",
        "df.target = le.transform(df.target)"
      ],
      "execution_count": null,
      "outputs": []
    },
    {
      "cell_type": "code",
      "metadata": {
        "id": "Eadb0cyRh3Vs",
        "outputId": "5579cd7b-1e00-4391-d431-7fb2560681d1",
        "colab": {
          "base_uri": "https://localhost:8080/",
          "height": 35
        }
      },
      "source": [
        "le.classes_[6]"
      ],
      "execution_count": null,
      "outputs": [
        {
          "output_type": "execute_result",
          "data": {
            "application/vnd.google.colaboratory.intrinsic+json": {
              "type": "string"
            },
            "text/plain": [
              "'Engenharia e Produção'"
            ]
          },
          "metadata": {
            "tags": []
          },
          "execution_count": 22
        }
      ]
    },
    {
      "cell_type": "markdown",
      "metadata": {
        "id": "F79K351GRY5m"
      },
      "source": [
        "#### Reservando dados para análise futura. Simulação de dados reais."
      ]
    },
    {
      "cell_type": "code",
      "metadata": {
        "id": "LCBBtY0Zl02C"
      },
      "source": [
        "df_train, df_test = separate_df(df, .90)"
      ],
      "execution_count": null,
      "outputs": []
    },
    {
      "cell_type": "code",
      "metadata": {
        "id": "rf1iTLf0l5Yp",
        "outputId": "0ddf4ce9-e5fe-4a70-f60b-c5212cdb6e1c",
        "colab": {
          "base_uri": "https://localhost:8080/",
          "height": 51
        }
      },
      "source": [
        "print(len(df_train))\n",
        "print(len(df_test))"
      ],
      "execution_count": null,
      "outputs": [
        {
          "output_type": "stream",
          "text": [
            "1796\n",
            "191\n"
          ],
          "name": "stdout"
        }
      ]
    },
    {
      "cell_type": "code",
      "metadata": {
        "id": "qQc-DxzgnC6s",
        "outputId": "d219444e-2f0c-4647-824a-668e141a47f4",
        "colab": {
          "base_uri": "https://localhost:8080/",
          "height": 51
        }
      },
      "source": [
        "print(len(df_test.target.unique()))\n",
        "print(len(df_train.target.unique()))"
      ],
      "execution_count": null,
      "outputs": [
        {
          "output_type": "stream",
          "text": [
            "8\n",
            "8\n"
          ],
          "name": "stdout"
        }
      ]
    },
    {
      "cell_type": "code",
      "metadata": {
        "id": "9XLS_HSPq6YP"
      },
      "source": [
        "df_train.target = df_train.target.astype(int)\n",
        "df_test.target = df_test.target.astype(int)"
      ],
      "execution_count": null,
      "outputs": []
    },
    {
      "cell_type": "code",
      "metadata": {
        "id": "z_iIQKzprJsm",
        "outputId": "79e1ad31-25dd-43b8-b784-c6ad1469c6e5",
        "colab": {
          "base_uri": "https://localhost:8080/",
          "height": 170
        }
      },
      "source": [
        "df_train.info()"
      ],
      "execution_count": null,
      "outputs": [
        {
          "output_type": "stream",
          "text": [
            "<class 'pandas.core.frame.DataFrame'>\n",
            "RangeIndex: 1796 entries, 0 to 1795\n",
            "Data columns (total 2 columns):\n",
            " #   Column  Non-Null Count  Dtype \n",
            "---  ------  --------------  ----- \n",
            " 0   text    1796 non-null   object\n",
            " 1   target  1796 non-null   int64 \n",
            "dtypes: int64(1), object(1)\n",
            "memory usage: 28.2+ KB\n"
          ],
          "name": "stdout"
        }
      ]
    },
    {
      "cell_type": "markdown",
      "metadata": {
        "id": "krIm4c6sRnuX"
      },
      "source": [
        "## Criação de um dicionário"
      ]
    },
    {
      "cell_type": "code",
      "metadata": {
        "id": "BTjsP-n45dQJ",
        "outputId": "38e3b502-9a34-4f93-c545-1e6025502fb0",
        "colab": {
          "base_uri": "https://localhost:8080/",
          "height": 34
        }
      },
      "source": [
        "en, pt = [], []\n",
        "f = open(\"/content/drive/My Drive/Colab Notebooks/dict.txt\", \"r\")\n",
        "for line in f.readlines():\n",
        "  # print(line)\n",
        "  en.append(line.split(\" - \")[0])\n",
        "  pt.append(line.split(\" - \")[1].replace(\"\\n\", \"\"))\n",
        "\n",
        "dictionary = {}\n",
        "zip_iterator = zip(en, pt)\n",
        "\n",
        "dictionary = dict(zip_iterator)\n",
        "print(len(dictionary))\n",
        "# dictionary"
      ],
      "execution_count": null,
      "outputs": [
        {
          "output_type": "stream",
          "text": [
            "2918\n"
          ],
          "name": "stdout"
        }
      ]
    },
    {
      "cell_type": "code",
      "metadata": {
        "id": "N-1G6iFEosRc",
        "outputId": "d44bc6c6-d894-4362-cee5-1c0edaea2d70",
        "colab": {
          "base_uri": "https://localhost:8080/",
          "height": 85
        }
      },
      "source": [
        "f = open(\"/content/drive/My Drive/Colab Notebooks/text_en.txt\", \"r\")\n",
        "en1 = f.read().split(\",\")\n",
        "\n",
        "f = open(\"/content/drive/My Drive/Colab Notebooks/text_pt.txt\", \"r\")\n",
        "pt1 = f.read().split(\",\")\n",
        "\n",
        "print(len(en1))\n",
        "print(len(pt1))\n",
        "\n",
        "en2 = [en.replace(\" \", \"\") for en in en1]\n",
        "pt2 = [pt.replace(\" \", \"\") for pt in pt1]\n",
        "\n",
        "en = [en.replace(\"\\n\", \"\") for en in en2]\n",
        "pt = [pt.replace(\"\\n\", \"\") for pt in pt2]\n",
        "\n",
        "dictionary2 = {}\n",
        "zip_iterator = zip(en, pt)\n",
        "\n",
        "dictionary2 = dict(zip_iterator)\n",
        "print(len(dictionary2))\n",
        "\n",
        "dictionary.update(dictionary2)\n",
        "print(len(dictionary))\n",
        "# dictionary"
      ],
      "execution_count": null,
      "outputs": [
        {
          "output_type": "stream",
          "text": [
            "2723\n",
            "2723\n",
            "1363\n",
            "4226\n"
          ],
          "name": "stdout"
        }
      ]
    },
    {
      "cell_type": "markdown",
      "metadata": {
        "id": "agoBbxI1KSvC"
      },
      "source": [
        "### Salvando dicionário"
      ]
    },
    {
      "cell_type": "code",
      "metadata": {
        "id": "S23Jhf0fskH7"
      },
      "source": [
        "fout = \"/content/drive/My Drive/Colab Notebooks/dictionary.txt\"\n",
        "fo = open(fout, \"w\")\n",
        "\n",
        "for k, v in dictionary.items():\n",
        "    fo.write(str(k) + ' - '+ str(v) + '\\n')\n",
        "\n",
        "fo.close()"
      ],
      "execution_count": null,
      "outputs": []
    },
    {
      "cell_type": "markdown",
      "metadata": {
        "id": "pRr_KWiCSJgE"
      },
      "source": [
        "## Aplicação de pré-processamento"
      ]
    },
    {
      "cell_type": "markdown",
      "metadata": {
        "id": "LLy3kyiFSONQ"
      },
      "source": [
        "#### Aplicando limpeza dos textos, traduzindo as palavras inglês e removendo as stopwords."
      ]
    },
    {
      "cell_type": "code",
      "metadata": {
        "id": "cyYmxMlS-Zdr"
      },
      "source": [
        "for i, row in df_train.iterrows():\n",
        "  result = RemoveStopWords(translator(clean_text(row['text'])))\n",
        "  df_train.at[i,'text'] = result\n",
        "\n",
        "for i, row in df_test.iterrows():\n",
        "  result = RemoveStopWords(translator(clean_text(row['text'])))\n",
        "  df_test.at[i,'text'] = result\n",
        "\n",
        "for i, row in df.iterrows():\n",
        "  result = RemoveStopWords(translator(clean_text(row['text'])))\n",
        "  df.at[i,'clear_text'] = result"
      ],
      "execution_count": null,
      "outputs": []
    },
    {
      "cell_type": "code",
      "metadata": {
        "id": "iic-8H8R-82O",
        "outputId": "dbee74db-3847-494f-fbcc-c1d7cf5dc8e5",
        "colab": {
          "base_uri": "https://localhost:8080/",
          "height": 34
        }
      },
      "source": [
        "result = \"\"\n",
        "for i, row in df.iterrows():\n",
        "  result += find_english_words(row['clear_text']) + \" \"\n",
        "result.replace(\"\", \"\")\n",
        "print()\n",
        "# print(set(result.split(\" \")))\n",
        "# print(len(set(result.split(\" \"))))\n",
        "# print(\", \".join(set(result.split(\" \"))))"
      ],
      "execution_count": null,
      "outputs": [
        {
          "output_type": "stream",
          "text": [
            "\n"
          ],
          "name": "stdout"
        }
      ]
    },
    {
      "cell_type": "markdown",
      "metadata": {
        "id": "Aboine04S0E7"
      },
      "source": [
        "## Salvando dados tratados em novos datasets"
      ]
    },
    {
      "cell_type": "code",
      "metadata": {
        "id": "lBaPj7Y84d79"
      },
      "source": [
        "df_train.to_csv('/content/drive/My Drive/Colab Notebooks/df_train_treated.csv')"
      ],
      "execution_count": null,
      "outputs": []
    },
    {
      "cell_type": "code",
      "metadata": {
        "id": "TGk_GxR70sa8"
      },
      "source": [
        "df_test.to_csv('/content/drive/My Drive/Colab Notebooks/df_test_treated.csv')"
      ],
      "execution_count": null,
      "outputs": []
    },
    {
      "cell_type": "code",
      "metadata": {
        "id": "DJ7lLBVVwcha"
      },
      "source": [
        "# print(stemmingSimple(df_train['text'])[1])\n",
        "# print(stemmingSimpleSet(df_train['text'])[1])"
      ],
      "execution_count": null,
      "outputs": []
    },
    {
      "cell_type": "markdown",
      "metadata": {
        "id": "CmtydngJS8Mc"
      },
      "source": [
        "## Pré-processamento. Extração de radical."
      ]
    },
    {
      "cell_type": "code",
      "metadata": {
        "id": "ncBCtK9UGtEY"
      },
      "source": [
        "# applie stemming in each list\n",
        "train = stemmingSimpleSet(df_train['text'])\n",
        "test  = stemmingSimpleSet(df_test['text'])\n",
        "complet = stemmingSimpleSet(df['clear_text'])\n",
        "\n",
        "df_train['text_stem'] = train\n",
        "df_test['text_stem'] = test\n",
        "df['text_stem'] = complet"
      ],
      "execution_count": null,
      "outputs": []
    },
    {
      "cell_type": "code",
      "metadata": {
        "id": "bUnYFI-4Cv8Z"
      },
      "source": [
        "# df_train['text_stem']"
      ],
      "execution_count": null,
      "outputs": []
    },
    {
      "cell_type": "markdown",
      "metadata": {
        "id": "CDrQ5FI1TOMV"
      },
      "source": [
        "> Número máximo de palavras encontrada nos registros"
      ]
    },
    {
      "cell_type": "code",
      "metadata": {
        "id": "6rDN-IzFDfxg",
        "outputId": "9226caaa-a35a-4cf3-d6cc-af29b852960c",
        "colab": {
          "base_uri": "https://localhost:8080/",
          "height": 34
        }
      },
      "source": [
        "MAX_SEQ_LEN = int(df['text'].apply(lambda x : len(x.split(' '))).quantile(0.95))\n",
        "MAX_SEQ_LEN"
      ],
      "execution_count": null,
      "outputs": [
        {
          "output_type": "execute_result",
          "data": {
            "text/plain": [
              "804"
            ]
          },
          "metadata": {
            "tags": []
          },
          "execution_count": 40
        }
      ]
    },
    {
      "cell_type": "markdown",
      "metadata": {
        "id": "0QxAAFp1Ti3O"
      },
      "source": [
        "## Análise das classes"
      ]
    },
    {
      "cell_type": "code",
      "metadata": {
        "id": "h7Ipj2C4C19U",
        "outputId": "c9e5c639-7915-4c9e-9a90-efb194c5a839",
        "colab": {
          "base_uri": "https://localhost:8080/",
          "height": 105
        }
      },
      "source": [
        "# tokenize the sentences\n",
        "tokenizer = Tokenizer(lower=False)\n",
        "tokenizer.fit_on_texts(df_train['text_stem'])\n",
        "train_text_vec = tokenizer.texts_to_sequences(df_train['text_stem'])\n",
        "test_text_vec = tokenizer.texts_to_sequences(df_test['text_stem'])\n",
        "\n",
        "# pad the sequences\n",
        "train_text_vec = pad_sequences(train_text_vec, maxlen=MAX_SEQ_LEN, padding='post')\n",
        "test_text_vec = pad_sequences(test_text_vec, maxlen=MAX_SEQ_LEN, padding='post')\n",
        "\n",
        "print('Number of Tokens:', len(tokenizer.word_index))\n",
        "print(\"Max Token Index:\", train_text_vec.max(), \"\\n\")\n",
        "\n",
        "# print('Sample Before Processing:', df_train[\"text\"].values[0])\n",
        "# print('Sample After Processing:', tokenizer.sequences_to_texts([train_text_vec[0]]), '\\n')\n",
        "\n",
        "print('What the model will interpret:', train_text_vec[0].tolist())"
      ],
      "execution_count": null,
      "outputs": [
        {
          "output_type": "stream",
          "text": [
            "Number of Tokens: 16303\n",
            "Max Token Index: 16303 \n",
            "\n",
            "What the model will interpret: [93, 205, 104, 294, 7078, 57, 794, 184, 31, 19, 1666, 708, 180, 167, 807, 1402, 74, 20, 370, 2469, 1337, 11, 81, 139, 519, 27, 427, 119, 1, 366, 59, 887, 125, 4977, 102, 55, 33, 0, 0, 0, 0, 0, 0, 0, 0, 0, 0, 0, 0, 0, 0, 0, 0, 0, 0, 0, 0, 0, 0, 0, 0, 0, 0, 0, 0, 0, 0, 0, 0, 0, 0, 0, 0, 0, 0, 0, 0, 0, 0, 0, 0, 0, 0, 0, 0, 0, 0, 0, 0, 0, 0, 0, 0, 0, 0, 0, 0, 0, 0, 0, 0, 0, 0, 0, 0, 0, 0, 0, 0, 0, 0, 0, 0, 0, 0, 0, 0, 0, 0, 0, 0, 0, 0, 0, 0, 0, 0, 0, 0, 0, 0, 0, 0, 0, 0, 0, 0, 0, 0, 0, 0, 0, 0, 0, 0, 0, 0, 0, 0, 0, 0, 0, 0, 0, 0, 0, 0, 0, 0, 0, 0, 0, 0, 0, 0, 0, 0, 0, 0, 0, 0, 0, 0, 0, 0, 0, 0, 0, 0, 0, 0, 0, 0, 0, 0, 0, 0, 0, 0, 0, 0, 0, 0, 0, 0, 0, 0, 0, 0, 0, 0, 0, 0, 0, 0, 0, 0, 0, 0, 0, 0, 0, 0, 0, 0, 0, 0, 0, 0, 0, 0, 0, 0, 0, 0, 0, 0, 0, 0, 0, 0, 0, 0, 0, 0, 0, 0, 0, 0, 0, 0, 0, 0, 0, 0, 0, 0, 0, 0, 0, 0, 0, 0, 0, 0, 0, 0, 0, 0, 0, 0, 0, 0, 0, 0, 0, 0, 0, 0, 0, 0, 0, 0, 0, 0, 0, 0, 0, 0, 0, 0, 0, 0, 0, 0, 0, 0, 0, 0, 0, 0, 0, 0, 0, 0, 0, 0, 0, 0, 0, 0, 0, 0, 0, 0, 0, 0, 0, 0, 0, 0, 0, 0, 0, 0, 0, 0, 0, 0, 0, 0, 0, 0, 0, 0, 0, 0, 0, 0, 0, 0, 0, 0, 0, 0, 0, 0, 0, 0, 0, 0, 0, 0, 0, 0, 0, 0, 0, 0, 0, 0, 0, 0, 0, 0, 0, 0, 0, 0, 0, 0, 0, 0, 0, 0, 0, 0, 0, 0, 0, 0, 0, 0, 0, 0, 0, 0, 0, 0, 0, 0, 0, 0, 0, 0, 0, 0, 0, 0, 0, 0, 0, 0, 0, 0, 0, 0, 0, 0, 0, 0, 0, 0, 0, 0, 0, 0, 0, 0, 0, 0, 0, 0, 0, 0, 0, 0, 0, 0, 0, 0, 0, 0, 0, 0, 0, 0, 0, 0, 0, 0, 0, 0, 0, 0, 0, 0, 0, 0, 0, 0, 0, 0, 0, 0, 0, 0, 0, 0, 0, 0, 0, 0, 0, 0, 0, 0, 0, 0, 0, 0, 0, 0, 0, 0, 0, 0, 0, 0, 0, 0, 0, 0, 0, 0, 0, 0, 0, 0, 0, 0, 0, 0, 0, 0, 0, 0, 0, 0, 0, 0, 0, 0, 0, 0, 0, 0, 0, 0, 0, 0, 0, 0, 0, 0, 0, 0, 0, 0, 0, 0, 0, 0, 0, 0, 0, 0, 0, 0, 0, 0, 0, 0, 0, 0, 0, 0, 0, 0, 0, 0, 0, 0, 0, 0, 0, 0, 0, 0, 0, 0, 0, 0, 0, 0, 0, 0, 0, 0, 0, 0, 0, 0, 0, 0, 0, 0, 0, 0, 0, 0, 0, 0, 0, 0, 0, 0, 0, 0, 0, 0, 0, 0, 0, 0, 0, 0, 0, 0, 0, 0, 0, 0, 0, 0, 0, 0, 0, 0, 0, 0, 0, 0, 0, 0, 0, 0, 0, 0, 0, 0, 0, 0, 0, 0, 0, 0, 0, 0, 0, 0, 0, 0, 0, 0, 0, 0, 0, 0, 0, 0, 0, 0, 0, 0, 0, 0, 0, 0, 0, 0, 0, 0, 0, 0, 0, 0, 0, 0, 0, 0, 0, 0, 0, 0, 0, 0, 0, 0, 0, 0, 0, 0, 0, 0, 0, 0, 0, 0, 0, 0, 0, 0, 0, 0, 0, 0, 0, 0, 0, 0, 0, 0, 0, 0, 0, 0, 0, 0, 0, 0, 0, 0, 0, 0, 0, 0, 0, 0, 0, 0, 0, 0, 0, 0, 0, 0, 0, 0, 0, 0, 0, 0, 0, 0, 0, 0, 0, 0, 0, 0, 0, 0, 0, 0, 0, 0, 0, 0, 0, 0, 0, 0, 0, 0, 0, 0, 0, 0, 0, 0, 0, 0, 0, 0, 0, 0, 0, 0, 0, 0, 0, 0, 0, 0, 0, 0, 0, 0, 0, 0, 0, 0, 0, 0, 0, 0, 0, 0, 0, 0, 0, 0, 0, 0, 0, 0, 0, 0, 0, 0, 0, 0, 0, 0, 0, 0, 0, 0, 0, 0, 0, 0, 0, 0, 0, 0, 0, 0, 0, 0, 0, 0, 0, 0, 0, 0, 0, 0, 0, 0, 0, 0, 0]\n"
          ],
          "name": "stdout"
        }
      ]
    },
    {
      "cell_type": "code",
      "metadata": {
        "id": "CGUyu--wEJ6p",
        "outputId": "f1466225-67e2-4d81-e29d-70aa8260fcab",
        "colab": {
          "base_uri": "https://localhost:8080/",
          "height": 68
        }
      },
      "source": [
        "# get an idea of the distribution of the text values\n",
        "from collections import Counter\n",
        "ctr = Counter(df_train['target'].values)\n",
        "print('Distribution of Classes:', ctr)\n",
        "\n",
        "# get class weights for the training data, this will be used data\n",
        "cws = class_weight.compute_class_weight('balanced', \n",
        "                              np.unique(df_train['target'].values), \n",
        "                              df_train['target'].values)\n",
        "print(cws)\n",
        "# print(y_train_int)"
      ],
      "execution_count": null,
      "outputs": [
        {
          "output_type": "stream",
          "text": [
            "Distribution of Classes: Counter({6: 618, 0: 217, 4: 187, 3: 178, 5: 165, 2: 146, 1: 144, 7: 141})\n",
            "[1.03456221 1.55902778 1.53767123 1.26123596 1.20053476 1.36060606\n",
            " 0.36326861 1.59219858]\n"
          ],
          "name": "stdout"
        }
      ]
    },
    {
      "cell_type": "code",
      "metadata": {
        "id": "OtaItHYYIWri"
      },
      "source": [
        "import seaborn as sns\n",
        "plt.rcParams[\"figure.figsize\"] = (12,6)"
      ],
      "execution_count": null,
      "outputs": []
    },
    {
      "cell_type": "markdown",
      "metadata": {
        "id": "F0q64zUTLVmv"
      },
      "source": [
        "### Análise do Balanceamento das Classes e distribuição das palavras"
      ]
    },
    {
      "cell_type": "code",
      "metadata": {
        "id": "fEVqiNgNWAnV",
        "outputId": "0ad9da11-0caa-4ea6-ac3d-184b12631574",
        "colab": {
          "base_uri": "https://localhost:8080/",
          "height": 387
        }
      },
      "source": [
        "df_train['target'].value_counts().plot(kind='bar')"
      ],
      "execution_count": null,
      "outputs": [
        {
          "output_type": "execute_result",
          "data": {
            "text/plain": [
              "<matplotlib.axes._subplots.AxesSubplot at 0x7f0eb39bdb00>"
            ]
          },
          "metadata": {
            "tags": []
          },
          "execution_count": 44
        },
        {
          "output_type": "display_data",
          "data": {
            "image/png": "[encoded data removed]",
            "text/plain": [
              "<Figure size 864x432 with 1 Axes>"
            ]
          },
          "metadata": {
            "tags": [],
            "needs_background": "light"
          }
        }
      ]
    },
    {
      "cell_type": "markdown",
      "metadata": {
        "id": "fal4-T4uTqLv"
      },
      "source": [
        "- Classe 6 (Engenharia e Produção) está desbalanceada."
      ]
    },
    {
      "cell_type": "markdown",
      "metadata": {
        "id": "NNB__Y-nL6s2"
      },
      "source": [
        "### Distribuição da quantidade de palavras únicas em cada registro"
      ]
    },
    {
      "cell_type": "code",
      "metadata": {
        "id": "AiVfUJ0BN5aS",
        "outputId": "21f6aafa-fc5b-4ccf-caed-9b228c63623e",
        "colab": {
          "base_uri": "https://localhost:8080/",
          "height": 479
        }
      },
      "source": [
        "t = [len(set(tokenize(t))) for t in df['text_stem']]\n",
        "print(t)\n",
        "plt.hist(t)"
      ],
      "execution_count": null,
      "outputs": [
        {
          "output_type": "stream",
          "text": [
            "[37, 28, 43, 92, 61, 81, 167, 128, 3, 3, 3, 7, 52, 88, 12, 100, 55, 124, 4, 2, 4, 5, 2, 7, 3, 9, 3, 116, 122, 46, 94, 31, 80, 28, 128, 128, 14, 29, 89, 57, 95, 33, 40, 40, 202, 36, 39, 12, 261, 30, 77, 164, 88, 34, 114, 33, 86, 70, 39, 33, 22, 21, 220, 78, 74, 25, 16, 14, 18, 195, 5, 162, 152, 11, 14, 115, 54, 33, 71, 183, 116, 18, 27, 30, 0, 68, 37, 83, 94, 38, 55, 159, 42, 44, 161, 34, 56, 38, 283, 12, 85, 21, 82, 5, 233, 5, 11, 3, 3, 8, 5, 4, 2, 4, 9, 46, 0, 25, 21, 129, 209, 202, 116, 101, 88, 249, 86, 34, 82, 22, 132, 171, 108, 108, 168, 159, 65, 6, 93, 231, 71, 463, 71, 180, 200, 177, 19, 159, 32, 36, 47, 7, 7, 7, 8, 7, 72, 150, 156, 72, 6, 93, 32, 80, 115, 28, 30, 17, 35, 107, 82, 153, 22, 112, 187, 232, 33, 122, 216, 197, 140, 172, 35, 151, 209, 180, 151, 159, 120, 218, 254, 110, 103, 21, 74, 72, 201, 158, 5, 91, 138, 40, 96, 98, 43, 22, 66, 80, 50, 33, 7, 5, 8, 8, 12, 5, 35, 5, 7, 27, 25, 111, 38, 47, 104, 92, 23, 46, 150, 67, 18, 88, 154, 34, 79, 145, 100, 42, 25, 141, 23, 159, 49, 12, 39, 184, 18, 68, 72, 30, 34, 33, 181, 16, 38, 127, 47, 20, 26, 47, 161, 9, 17, 111, 7, 8, 84, 31, 109, 10, 45, 64, 25, 172, 49, 63, 40, 6, 33, 167, 34, 68, 149, 73, 19, 64, 119, 53, 84, 47, 11, 133, 132, 175, 135, 23, 67, 34, 20, 134, 281, 63, 148, 82, 204, 89, 201, 88, 143, 27, 66, 155, 136, 72, 76, 39, 137, 144, 65, 179, 200, 126, 72, 251, 17, 12, 55, 6, 27, 32, 76, 28, 27, 107, 78, 118, 115, 114, 57, 10, 28, 96, 107, 77, 28, 72, 35, 84, 93, 119, 100, 211, 82, 24, 50, 26, 35, 5, 32, 17, 34, 23, 28, 4, 25, 34, 22, 67, 76, 91, 28, 104, 151, 114, 106, 89, 60, 7, 136, 147, 100, 128, 198, 154, 36, 10, 7, 90, 38, 118, 38, 101, 0, 97, 20, 91, 29, 186, 17, 24, 134, 80, 82, 287, 259, 82, 59, 44, 116, 146, 80, 34, 97, 64, 67, 98, 36, 44, 167, 30, 204, 151, 58, 15, 25, 91, 5, 7, 106, 91, 213, 93, 70, 238, 32, 51, 19, 215, 67, 117, 130, 13, 110, 30, 5, 92, 55, 30, 55, 34, 102, 99, 156, 53, 131, 33, 138, 34, 37, 28, 49, 103, 92, 48, 4, 13, 15, 96, 12, 54, 14, 32, 86, 17, 23, 6, 29, 6, 2, 41, 96, 2, 40, 123, 47, 109, 30, 109, 50, 155, 27, 73, 24, 59, 23, 74, 39, 27, 41, 118, 46, 71, 34, 119, 9, 58, 52, 118, 72, 36, 165, 30, 216, 125, 132, 29, 178, 95, 128, 108, 169, 145, 72, 147, 49, 25, 99, 83, 20, 150, 4, 47, 32, 37, 48, 26, 15, 43, 53, 48, 42, 68, 11, 62, 105, 122, 66, 13, 56, 31, 32, 39, 115, 38, 43, 34, 92, 66, 5, 21, 226, 23, 124, 108, 147, 305, 52, 5, 6, 5, 69, 40, 140, 29, 147, 29, 21, 22, 104, 84, 25, 40, 14, 16, 32, 16, 159, 73, 47, 14, 58, 52, 27, 66, 25, 51, 84, 40, 6, 45, 173, 44, 33, 73, 310, 64, 178, 39, 25, 68, 63, 37, 77, 53, 97, 72, 134, 79, 176, 115, 190, 159, 98, 192, 27, 105, 76, 35, 88, 201, 21, 19, 36, 86, 48, 10, 34, 147, 33, 72, 228, 9, 31, 162, 62, 13, 73, 36, 145, 27, 59, 79, 188, 158, 20, 59, 141, 105, 42, 71, 60, 29, 158, 14, 63, 42, 92, 88, 55, 27, 41, 8, 41, 56, 189, 102, 207, 108, 131, 315, 118, 87, 117, 130, 12, 30, 88, 111, 7, 88, 72, 35, 54, 129, 46, 111, 25, 52, 133, 147, 82, 27, 212, 67, 148, 50, 37, 219, 27, 145, 46, 130, 231, 32, 26, 301, 107, 49, 184, 76, 163, 210, 86, 87, 84, 84, 85, 24, 213, 251, 176, 358, 147, 112, 77, 281, 127, 37, 14, 39, 106, 40, 166, 35, 10, 132, 103, 4, 64, 182, 4, 38, 21, 47, 18, 93, 74, 49, 21, 100, 171, 27, 78, 97, 4, 87, 42, 106, 44, 162, 75, 39, 18, 41, 157, 57, 4, 110, 50, 88, 36, 98, 5, 24, 53, 64, 134, 53, 4, 6, 136, 32, 243, 211, 81, 55, 121, 34, 132, 123, 40, 288, 122, 155, 6, 62, 86, 172, 8, 14, 33, 25, 31, 27, 45, 43, 96, 111, 46, 395, 91, 215, 37, 55, 55, 74, 62, 47, 69, 77, 52, 37, 187, 64, 198, 175, 167, 92, 39, 47, 127, 95, 40, 119, 66, 189, 74, 33, 243, 76, 84, 96, 82, 52, 51, 41, 37, 107, 117, 136, 109, 44, 29, 82, 81, 64, 29, 118, 102, 55, 99, 29, 34, 40, 96, 132, 57, 10, 22, 137, 12, 95, 73, 86, 80, 101, 50, 139, 22, 39, 107, 112, 156, 71, 77, 95, 48, 103, 27, 198, 61, 52, 76, 36, 83, 145, 207, 96, 155, 45, 103, 86, 124, 53, 28, 21, 123, 29, 123, 66, 429, 40, 42, 146, 213, 249, 74, 25, 100, 175, 52, 41, 9, 49, 43, 0, 39, 22, 57, 24, 33, 25, 39, 34, 121, 86, 44, 12, 21, 15, 61, 43, 68, 91, 86, 34, 27, 42, 138, 71, 48, 123, 56, 112, 28, 122, 113, 225, 80, 174, 51, 37, 69, 57, 82, 109, 28, 107, 46, 53, 143, 172, 55, 42, 6, 2, 3, 7, 10, 5, 5, 6, 8, 124, 78, 204, 62, 144, 103, 72, 222, 56, 31, 22, 222, 260, 116, 96, 38, 92, 65, 153, 138, 200, 260, 145, 139, 80, 231, 223, 30, 103, 36, 64, 43, 147, 126, 53, 105, 56, 272, 56, 58, 98, 112, 171, 76, 79, 50, 30, 156, 134, 33, 7, 96, 52, 245, 76, 0, 251, 5, 320, 228, 193, 179, 181, 120, 97, 162, 16, 202, 209, 35, 91, 23, 199, 43, 37, 185, 94, 204, 25, 87, 216, 36, 5, 72, 33, 197, 15, 46, 23, 116, 11, 129, 89, 12, 96, 105, 129, 6, 63, 37, 22, 143, 37, 104, 73, 95, 62, 13, 55, 44, 6, 12, 84, 149, 27, 40, 13, 40, 38, 37, 16, 15, 4, 74, 13, 7, 5, 5, 5, 8, 4, 4, 6, 166, 127, 5, 4, 11, 2, 8, 3, 3, 4, 4, 171, 19, 123, 21, 99, 79, 142, 185, 225, 179, 14, 109, 184, 47, 29, 99, 54, 20, 40, 104, 18, 53, 55, 124, 12, 68, 89, 30, 24, 63, 3, 112, 42, 32, 20, 154, 19, 136, 172, 104, 67, 97, 26, 5, 83, 59, 8, 104, 18, 141, 4, 89, 65, 204, 132, 131, 26, 54, 5, 101, 88, 83, 21, 86, 42, 13, 5, 115, 4, 35, 54, 14, 36, 43, 61, 29, 87, 14, 8, 152, 160, 136, 39, 78, 54, 62, 137, 28, 77, 83, 19, 68, 10, 35, 66, 18, 149, 50, 153, 68, 42, 148, 3, 0, 0, 0, 0, 0, 0, 0, 0, 0, 0, 117, 72, 81, 70, 19, 91, 142, 21, 119, 226, 51, 21, 43, 7, 21, 41, 65, 8, 26, 66, 96, 193, 104, 20, 82, 36, 195, 68, 23, 183, 31, 31, 119, 3, 107, 49, 196, 87, 170, 80, 59, 101, 31, 125, 3, 47, 79, 19, 0, 3, 27, 75, 91, 30, 72, 124, 31, 55, 96, 22, 194, 28, 122, 58, 112, 46, 38, 22, 29, 88, 100, 108, 155, 46, 41, 103, 109, 134, 122, 46, 220, 157, 26, 74, 137, 109, 60, 176, 155, 175, 104, 40, 274, 233, 96, 22, 194, 5, 9, 7, 6, 4, 6, 3, 22, 29, 88, 100, 108, 155, 46, 41, 103, 109, 134, 220, 122, 46, 157, 137, 60, 26, 74, 56, 176, 218, 155, 175, 104, 40, 233, 7, 89, 188, 27, 70, 24, 4, 55, 164, 60, 66, 125, 61, 82, 42, 26, 233, 151, 83, 35, 24, 13, 91, 11, 8, 52, 103, 30, 25, 47, 21, 28, 77, 8, 4, 54, 3, 164, 245, 45, 130, 33, 44, 31, 245, 50, 210, 48, 153, 13, 224, 273, 29, 242, 172, 329, 80, 0, 0, 0, 0, 0, 0, 0, 0, 0, 0, 187, 84, 47, 69, 69, 198, 152, 103, 48, 49, 113, 63, 203, 106, 158, 110, 109, 61, 21, 154, 134, 112, 145, 108, 180, 114, 39, 98, 148, 77, 18, 100, 19, 48, 6, 73, 41, 23, 69, 154, 79, 228, 5, 107, 72, 101, 26, 294, 0, 53, 58, 125, 179, 146, 12, 70, 25, 25, 173, 28, 176, 86, 88, 161, 130, 72, 52, 50, 5, 34, 180, 269, 72, 174, 30, 37, 172, 39, 59, 37, 71, 92, 39, 66, 198, 92, 207, 22, 65, 168, 39, 33, 34, 179, 48, 30, 13, 70, 2, 5, 6, 5, 3, 2, 67, 256, 22, 47, 5, 133, 164, 124, 166, 32, 56, 15, 112, 88, 56, 60, 134, 278, 15, 115, 66, 18, 193, 5, 0, 207, 98, 32, 4, 7, 30, 122, 15, 137, 156, 164, 81, 32, 83, 116, 137, 211, 68, 83, 68, 70, 116, 20, 164, 86, 85, 5, 13, 155, 77, 118, 149, 42, 72, 6, 0, 212, 96, 182, 175, 148, 246, 149, 235, 113, 324, 137, 19, 30, 40, 14, 49, 67, 12, 159, 122, 171, 225, 182, 138, 192, 45, 261, 110, 108, 75, 30, 5, 29, 11, 13, 5, 5, 61, 50, 32, 200, 126, 59, 38, 117, 151, 25, 24, 23, 4, 14, 5, 324, 4, 82, 52, 39, 8, 130, 86, 0, 22, 7, 38, 207, 168, 54, 106, 113, 0, 17, 60, 84, 241, 13, 73, 79, 75, 43, 59, 283, 178, 48, 118, 276, 15, 119, 124, 221, 79, 22, 14, 185, 71, 144, 23, 23, 6, 58, 87, 59, 111, 16, 19, 90, 29, 33, 145, 70, 63, 67, 87, 7, 213, 85, 142, 3, 19, 190, 137, 80, 352, 121, 145, 67, 171, 243, 8, 29, 116, 190, 183, 24, 42, 81, 156, 34, 110, 80, 80, 120, 91, 112, 111, 106, 56, 125, 237, 111, 317, 81, 111, 86, 204, 261, 44, 148, 60, 58, 37, 174, 44, 130, 133, 161, 40, 112, 73, 122, 16, 4, 29, 42, 0, 26, 72, 94, 164, 7, 33, 85, 33, 37, 118, 21, 83, 93, 81, 14, 64, 8, 82, 198, 20, 130, 264, 180, 47, 224, 150, 125, 154, 103, 113, 164, 0, 0, 155, 79, 141, 78, 362, 76, 17, 127, 13, 170, 36, 227, 156, 162, 92, 105, 22, 84, 74, 33, 146, 68, 145, 48, 74, 39, 46, 61, 95, 116, 13, 23, 97, 16, 43, 123, 177, 86, 82, 173, 37, 23, 69, 108, 140, 98, 68, 99, 107, 0, 93, 4, 23, 173, 36, 59, 127, 21, 39, 88, 75, 7, 75, 13, 119, 67, 25, 67, 41, 101, 51, 2, 42, 20, 39, 46, 73, 50, 44, 46, 52, 95, 62, 41, 17, 44, 26, 113, 86, 87, 52, 128, 27, 40, 0, 123, 128, 106, 197, 64, 24, 102, 7, 26, 29, 0, 137, 44, 6, 22, 85, 19, 61, 17, 28, 89, 118, 5, 65, 224, 33, 163, 61, 171, 14, 35, 16, 50, 114, 63, 78, 27, 223, 11, 96, 63, 72, 42, 79, 57, 23, 73, 73, 34, 77, 103, 87, 109, 114, 118, 34, 92, 66, 65, 67, 27, 65, 146, 73, 33, 97, 46, 70, 69, 78, 72, 13]\n"
          ],
          "name": "stdout"
        },
        {
          "output_type": "execute_result",
          "data": {
            "text/plain": [
              "(array([787., 505., 336., 202.,  98.,  36.,  16.,   4.,   1.,   2.]),\n",
              " array([  0. ,  46.3,  92.6, 138.9, 185.2, 231.5, 277.8, 324.1, 370.4,\n",
              "        416.7, 463. ]),\n",
              " <a list of 10 Patch objects>)"
            ]
          },
          "metadata": {
            "tags": []
          },
          "execution_count": 46
        },
        {
          "output_type": "display_data",
          "data": {
            "image/png": "[encoded data removed]",
            "text/plain": [
              "<Figure size 864x432 with 1 Axes>"
            ]
          },
          "metadata": {
            "tags": [],
            "needs_background": "light"
          }
        }
      ]
    },
    {
      "cell_type": "code",
      "metadata": {
        "id": "OjRkxFhjRf2b"
      },
      "source": [
        "# print(df['text_stem'][0])\n",
        "# print(set(tokenize(df['text_stem'][0])))\n",
        "# print(len(tokenize(df['text_stem'][0])))\n",
        "# print(len(set(tokenize(df['text_stem'][0]))))"
      ],
      "execution_count": null,
      "outputs": []
    },
    {
      "cell_type": "markdown",
      "metadata": {
        "id": "eAnbjZ-tMUn5"
      },
      "source": [
        "# Separação dos dados em treino e teste:"
      ]
    },
    {
      "cell_type": "code",
      "metadata": {
        "id": "Lo6Pbk_nHoQl"
      },
      "source": [
        "sentences_train, sentences_test, y_train, y_test = \\\n",
        "train_test_split(df_train['text_stem'], df_train['target'], test_size=0.25, \n",
        "                 random_state=41)"
      ],
      "execution_count": null,
      "outputs": []
    },
    {
      "cell_type": "markdown",
      "metadata": {
        "id": "XMBdofZkUcjK"
      },
      "source": [
        "#### Calculando o número máximo de palavras dentre os registros da base de treinamento"
      ]
    },
    {
      "cell_type": "code",
      "metadata": {
        "id": "ZHZKq8NV-Rq_"
      },
      "source": [
        "maxlen = 0\n",
        "for sent in sentences_train:\n",
        "  maxlen += len(sent)\n",
        "maxlen = int(maxlen/len(sentences_train))"
      ],
      "execution_count": null,
      "outputs": []
    },
    {
      "cell_type": "markdown",
      "metadata": {
        "id": "6X48kjkrUrBq"
      },
      "source": [
        "#### Aplicação do TF-IDF"
      ]
    },
    {
      "cell_type": "code",
      "metadata": {
        "id": "ql_ZHlCzbJh4"
      },
      "source": [
        "vectorizer = TfidfVectorizer()\n",
        "vectorizer.fit(sentences_train)\n",
        "\n",
        "X_train_tf = vectorizer.transform(sentences_train)\n",
        "X_test_tf  = vectorizer.transform(sentences_test)\n",
        "\n",
        "# print(vectorizer.vocabulary_)"
      ],
      "execution_count": null,
      "outputs": []
    },
    {
      "cell_type": "markdown",
      "metadata": {
        "id": "bqwlXh9cUz_c"
      },
      "source": [
        "#### Número de classes"
      ]
    },
    {
      "cell_type": "code",
      "metadata": {
        "id": "JwaPZKV2lFCv",
        "outputId": "6304c1ab-d02d-4328-ada0-038bb6cdcd69",
        "colab": {
          "base_uri": "https://localhost:8080/",
          "height": 34
        }
      },
      "source": [
        "num_classes = np.max(y_train) + 1\n",
        "num_classes"
      ],
      "execution_count": null,
      "outputs": [
        {
          "output_type": "execute_result",
          "data": {
            "text/plain": [
              "8"
            ]
          },
          "metadata": {
            "tags": []
          },
          "execution_count": 51
        }
      ]
    },
    {
      "cell_type": "markdown",
      "metadata": {
        "id": "xQZQbwm0UTVY"
      },
      "source": [
        "# Modelo simple de Rede Neural utilizando o Keras"
      ]
    },
    {
      "cell_type": "markdown",
      "metadata": {
        "id": "SgUtsp3EZQNo"
      },
      "source": [
        "![image.png](data:image/png;base64,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)"
      ]
    },
    {
      "cell_type": "markdown",
      "metadata": {
        "id": "x4qcgqXtU44y"
      },
      "source": [
        "#### Criação da matriz de categorias das classes utilizando o Keras "
      ]
    },
    {
      "cell_type": "code",
      "metadata": {
        "id": "o9phuNO_grzg"
      },
      "source": [
        "y_train_enc = keras.utils.to_categorical(y_train, num_classes)\n",
        "y_test_enc = keras.utils.to_categorical(y_test, num_classes)"
      ],
      "execution_count": null,
      "outputs": []
    },
    {
      "cell_type": "markdown",
      "metadata": {
        "id": "xJ845hP8VM1p"
      },
      "source": [
        "#### Rede neural simples\n",
        "- Input = Número de features\n",
        "- 1 Hidden Layer\n",
        "- Output = Número de classes\n",
        "- Ativação Hidden Layer = Relu\n",
        "- Ativação output = Softmax"
      ]
    },
    {
      "cell_type": "code",
      "metadata": {
        "id": "OEVV-bVgRvf8",
        "outputId": "ba8ccf68-dc1b-486b-af51-e73fc3e98911",
        "colab": {
          "base_uri": "https://localhost:8080/",
          "height": 255
        }
      },
      "source": [
        "n_layers = 1 \n",
        "n_densers = 126\n",
        "learning_rate = 0.001\n",
        "epochs = 50\n",
        "batch = 32\n",
        "activation = 'relu'\n",
        "opt = Nadam(lr=learning_rate)\n",
        "model = Sequential()\n",
        "model.add(layers.Dense(n_densers, input_dim=X_train_tf.shape[1], activation=activation))\n",
        "for i in range(1):\n",
        "  model.add(layers.Dense(n_densers,  activation=activation))\n",
        "model.add(Dense(num_classes, activation='softmax'))\n",
        "\n",
        "model.compile(optimizer = opt,\n",
        "              loss = \"categorical_crossentropy\",\n",
        "              metrics=['accuracy'])\n",
        "model.summary()"
      ],
      "execution_count": null,
      "outputs": [
        {
          "output_type": "stream",
          "text": [
            "Model: \"sequential\"\n",
            "_________________________________________________________________\n",
            "Layer (type)                 Output Shape              Param #   \n",
            "=================================================================\n",
            "dense (Dense)                (None, 126)               1709946   \n",
            "_________________________________________________________________\n",
            "dense_1 (Dense)              (None, 126)               16002     \n",
            "_________________________________________________________________\n",
            "dense_2 (Dense)              (None, 8)                 1016      \n",
            "=================================================================\n",
            "Total params: 1,726,964\n",
            "Trainable params: 1,726,964\n",
            "Non-trainable params: 0\n",
            "_________________________________________________________________\n"
          ],
          "name": "stdout"
        }
      ]
    },
    {
      "cell_type": "markdown",
      "metadata": {
        "id": "ie6q9O_UWHT_"
      },
      "source": [
        "#### Treinamento do modelo de Rede Neural criado"
      ]
    },
    {
      "cell_type": "code",
      "metadata": {
        "id": "pTQz-UrvRyFF",
        "outputId": "05b5cbf3-b997-48cc-e929-c317a4e323fa",
        "colab": {
          "base_uri": "https://localhost:8080/",
          "height": 802
        }
      },
      "source": [
        "earlyStopping = EarlyStopping(monitor='val_loss', patience=10, verbose=0, mode='min')\n",
        "mcp_save = ModelCheckpoint('.mdl_wts.hdf5', save_best_only=True, monitor='val_loss', mode='min')\n",
        "reduce_lr_loss = ReduceLROnPlateau(monitor='val_loss', factor=0.1, patience=7, verbose=1, epsilon=1e-4, mode='min')\n",
        "\n",
        "history = model.fit(X_train_tf.toarray(), y_train_enc,\n",
        "                    epochs=epochs,\n",
        "                    verbose=True,\n",
        "                    validation_data=(X_test_tf.toarray(), y_test_enc),\n",
        "                    batch_size=batch,\n",
        "                    callbacks=[earlyStopping, mcp_save, reduce_lr_loss])\n",
        "loss, accuracy = model.evaluate(X_train_tf.toarray(), y_train_enc, verbose=False)\n",
        "print(\"Training Accuracy: {:.4f}\".format(accuracy))\n",
        "loss, accuracy = model.evaluate(X_test_tf.toarray(), y_test_enc, verbose=False)\n",
        "print(\"Testing Accuracy:  {:.4f}\".format(accuracy))\n",
        "# plot_history(history)"
      ],
      "execution_count": null,
      "outputs": [
        {
          "output_type": "stream",
          "text": [
            "WARNING:tensorflow:`epsilon` argument is deprecated and will be removed, use `min_delta` instead.\n",
            "Epoch 1/50\n",
            "43/43 [==============================] - 1s 29ms/step - loss: 1.8923 - accuracy: 0.3259 - val_loss: 1.5517 - val_accuracy: 0.4232\n",
            "Epoch 2/50\n",
            "43/43 [==============================] - 1s 24ms/step - loss: 1.1641 - accuracy: 0.6756 - val_loss: 1.0069 - val_accuracy: 0.7060\n",
            "Epoch 3/50\n",
            "43/43 [==============================] - 1s 26ms/step - loss: 0.3931 - accuracy: 0.9592 - val_loss: 0.7540 - val_accuracy: 0.7840\n",
            "Epoch 4/50\n",
            "43/43 [==============================] - 1s 26ms/step - loss: 0.1191 - accuracy: 0.9903 - val_loss: 0.6919 - val_accuracy: 0.7862\n",
            "Epoch 5/50\n",
            "43/43 [==============================] - 1s 25ms/step - loss: 0.0632 - accuracy: 0.9918 - val_loss: 0.6850 - val_accuracy: 0.7884\n",
            "Epoch 6/50\n",
            "43/43 [==============================] - 1s 25ms/step - loss: 0.0461 - accuracy: 0.9926 - val_loss: 0.7565 - val_accuracy: 0.7684\n",
            "Epoch 7/50\n",
            "43/43 [==============================] - 1s 24ms/step - loss: 0.0401 - accuracy: 0.9911 - val_loss: 0.7957 - val_accuracy: 0.7572\n",
            "Epoch 8/50\n",
            "43/43 [==============================] - 1s 24ms/step - loss: 0.0360 - accuracy: 0.9926 - val_loss: 0.7312 - val_accuracy: 0.7817\n",
            "Epoch 9/50\n",
            "43/43 [==============================] - 1s 24ms/step - loss: 0.0283 - accuracy: 0.9933 - val_loss: 0.7597 - val_accuracy: 0.7684\n",
            "Epoch 10/50\n",
            "43/43 [==============================] - 1s 25ms/step - loss: 0.0309 - accuracy: 0.9918 - val_loss: 0.6745 - val_accuracy: 0.7973\n",
            "Epoch 11/50\n",
            "43/43 [==============================] - 1s 24ms/step - loss: 0.0243 - accuracy: 0.9948 - val_loss: 0.8040 - val_accuracy: 0.7728\n",
            "Epoch 12/50\n",
            "43/43 [==============================] - 1s 23ms/step - loss: 0.0254 - accuracy: 0.9941 - val_loss: 0.6997 - val_accuracy: 0.7996\n",
            "Epoch 13/50\n",
            "43/43 [==============================] - 1s 24ms/step - loss: 0.0233 - accuracy: 0.9948 - val_loss: 0.7414 - val_accuracy: 0.7951\n",
            "Epoch 14/50\n",
            "43/43 [==============================] - 1s 24ms/step - loss: 0.0234 - accuracy: 0.9941 - val_loss: 0.7561 - val_accuracy: 0.7884\n",
            "Epoch 15/50\n",
            "43/43 [==============================] - 1s 24ms/step - loss: 0.0234 - accuracy: 0.9941 - val_loss: 0.7148 - val_accuracy: 0.8040\n",
            "Epoch 16/50\n",
            "43/43 [==============================] - 1s 23ms/step - loss: 0.0232 - accuracy: 0.9941 - val_loss: 1.0853 - val_accuracy: 0.6993\n",
            "Epoch 17/50\n",
            "43/43 [==============================] - ETA: 0s - loss: 0.0332 - accuracy: 0.9948\n",
            "Epoch 00017: ReduceLROnPlateau reducing learning rate to 0.00010000000474974513.\n",
            "43/43 [==============================] - 1s 24ms/step - loss: 0.0332 - accuracy: 0.9948 - val_loss: 0.7035 - val_accuracy: 0.7996\n",
            "Epoch 18/50\n",
            "43/43 [==============================] - 1s 25ms/step - loss: 0.0254 - accuracy: 0.9948 - val_loss: 0.7057 - val_accuracy: 0.7973\n",
            "Epoch 19/50\n",
            "43/43 [==============================] - 1s 24ms/step - loss: 0.0246 - accuracy: 0.9948 - val_loss: 0.7117 - val_accuracy: 0.8040\n",
            "Epoch 20/50\n",
            "43/43 [==============================] - 1s 26ms/step - loss: 0.0243 - accuracy: 0.9948 - val_loss: 0.7128 - val_accuracy: 0.7996\n",
            "Training Accuracy: 0.9948\n",
            "Testing Accuracy:  0.7996\n"
          ],
          "name": "stdout"
        }
      ]
    },
    {
      "cell_type": "markdown",
      "metadata": {
        "id": "l5_qRk_wWTUN"
      },
      "source": [
        "#### Análise de classificação da Rede Neural criada"
      ]
    },
    {
      "cell_type": "code",
      "metadata": {
        "id": "ApSApIU-L7de",
        "outputId": "6b59ec5f-31fa-475a-bf2f-33ab04bd4545",
        "colab": {
          "base_uri": "https://localhost:8080/",
          "height": 527
        }
      },
      "source": [
        "test = vectorizer.transform(df_test['text_stem'].values)\n",
        "for i in range(0, 100, 10):\n",
        "  prediction = model.predict(test[i].toarray())\n",
        "  # print(df_test.loc[i, 'text'][:50], \"...\")\n",
        "  print('Actual label:' + str(le.classes_[df_test.loc[i, 'target']]))\n",
        "  print(\"Predicted label: \" + str(le.classes_[np.argmax(prediction)]) + \"\\n\") "
      ],
      "execution_count": null,
      "outputs": [
        {
          "output_type": "stream",
          "text": [
            "Actual label:Administracao\n",
            "Predicted label: Administracao\n",
            "\n",
            "Actual label:Administracao\n",
            "Predicted label: Administracao\n",
            "\n",
            "Actual label:Administracao\n",
            "Predicted label: Administracao\n",
            "\n",
            "Actual label:Arte e Desing\n",
            "Predicted label: Arte e Desing\n",
            "\n",
            "Actual label:Ciências Biológicas e da Terra\n",
            "Predicted label: Engenharia e Produção\n",
            "\n",
            "Actual label:Ciências Biológicas e da Terra\n",
            "Predicted label: Ciências Biológicas e da Terra\n",
            "\n",
            "Actual label:Análise e Desenvolvimento de Sistemas\n",
            "Predicted label: Análise e Desenvolvimento de Sistemas\n",
            "\n",
            "Actual label:Análise e Desenvolvimento de Sistemas\n",
            "Predicted label: Comunicação e Informação\n",
            "\n",
            "Actual label:Ciências Sociais e Humanas\n",
            "Predicted label: Ciências Sociais e Humanas\n",
            "\n",
            "Actual label:Ciências Sociais e Humanas\n",
            "Predicted label: Comunicação e Informação\n",
            "\n"
          ],
          "name": "stdout"
        }
      ]
    },
    {
      "cell_type": "markdown",
      "metadata": {
        "id": "3_CxOs5HX57-"
      },
      "source": [
        "## Escolhendo melhores parametros da rede neural simples"
      ]
    },
    {
      "cell_type": "code",
      "metadata": {
        "id": "EacvbCFTZ3NJ"
      },
      "source": [
        "input_shape = X_train_tf.shape[1]"
      ],
      "execution_count": null,
      "outputs": []
    },
    {
      "cell_type": "code",
      "metadata": {
        "id": "-ZJ08YOfYCpv"
      },
      "source": [
        "def create_model(learning_rate = 0.01, activation = 'relu', n_densers = 100, n_layers = 0):\n",
        "  opt = Nadam(lr=learning_rate, beta_1=0.9, beta_2=0.999, epsilon=None, schedule_decay=0.004)\n",
        "  model = Sequential()\n",
        "  model.add(layers.Dense(n_densers, input_dim=X_train_tf.shape[1], activation=activation))\n",
        "  for i in range(n_layers):\n",
        "    model.add(layers.Dense(n_densers,  activation=activation))\n",
        "  model.add(Dense(num_classes, activation='softmax'))\n",
        "\n",
        "  model.compile(optimizer = opt,\n",
        "                loss = \"categorical_crossentropy\",\n",
        "                metrics=['accuracy'])\n",
        "  return model"
      ],
      "execution_count": null,
      "outputs": []
    },
    {
      "cell_type": "code",
      "metadata": {
        "id": "RImdggF_YegL"
      },
      "source": [
        "params = {'activation': [\"relu\"],\n",
        "          'batch_size': [16, 32, 64], \n",
        "          'epochs': [50],\n",
        "          'learning_rate': [0.01, 0.001, 0.0001],\n",
        "          'n_densers': [100, 126, 200, 256],\n",
        "          'n_layers': [0, 1, 2]\n",
        "         }"
      ],
      "execution_count": null,
      "outputs": []
    },
    {
      "cell_type": "code",
      "metadata": {
        "id": "g9ijd0iFYYNm"
      },
      "source": [
        "model = KerasClassifier(build_fn = create_model, verbose = 0)"
      ],
      "execution_count": null,
      "outputs": []
    },
    {
      "cell_type": "code",
      "metadata": {
        "id": "kLX3shhKYjiH"
      },
      "source": [
        "random_search = RandomizedSearchCV(model,\n",
        "                                   param_distributions = params,\n",
        "                                   cv=10)"
      ],
      "execution_count": null,
      "outputs": []
    },
    {
      "cell_type": "code",
      "metadata": {
        "id": "NhBYIpR7Y5eo",
        "outputId": "6b734f86-efdc-41c6-c20e-c09e0eb20ff2",
        "colab": {
          "base_uri": "https://localhost:8080/",
          "height": 1000
        }
      },
      "source": [
        "grid_result = random_search.fit(X_train_tf.toarray(), \n",
        "                                y_train_enc, \n",
        "                                validation_data=(X_test_tf.toarray(), y_test_enc), \n",
        "                                callbacks=[earlyStopping, mcp_save, reduce_lr_loss])"
      ],
      "execution_count": null,
      "outputs": [
        {
          "output_type": "stream",
          "text": [
            "\n",
            "Epoch 00040: ReduceLROnPlateau reducing learning rate to 9.999999747378752e-06.\n",
            "\n",
            "Epoch 00030: ReduceLROnPlateau reducing learning rate to 9.999999747378752e-06.\n",
            "\n",
            "Epoch 00034: ReduceLROnPlateau reducing learning rate to 9.999999747378752e-06.\n",
            "\n",
            "Epoch 00044: ReduceLROnPlateau reducing learning rate to 9.999999747378752e-06.\n",
            "\n",
            "Epoch 00034: ReduceLROnPlateau reducing learning rate to 9.999999747378752e-06.\n",
            "\n",
            "Epoch 00038: ReduceLROnPlateau reducing learning rate to 9.999999747378752e-06.\n",
            "\n",
            "Epoch 00035: ReduceLROnPlateau reducing learning rate to 9.999999747378752e-06.\n",
            "\n",
            "Epoch 00036: ReduceLROnPlateau reducing learning rate to 9.999999747378752e-06.\n",
            "\n",
            "Epoch 00036: ReduceLROnPlateau reducing learning rate to 9.999999747378752e-06.\n",
            "\n",
            "Epoch 00029: ReduceLROnPlateau reducing learning rate to 9.999999747378752e-06.\n",
            "\n",
            "Epoch 00024: ReduceLROnPlateau reducing learning rate to 9.999999747378752e-06.\n",
            "\n",
            "Epoch 00026: ReduceLROnPlateau reducing learning rate to 9.999999747378752e-06.\n",
            "\n",
            "Epoch 00030: ReduceLROnPlateau reducing learning rate to 9.999999747378752e-06.\n",
            "\n",
            "Epoch 00024: ReduceLROnPlateau reducing learning rate to 9.999999747378752e-06.\n",
            "\n",
            "Epoch 00023: ReduceLROnPlateau reducing learning rate to 9.999999747378752e-06.\n",
            "\n",
            "Epoch 00025: ReduceLROnPlateau reducing learning rate to 9.999999747378752e-06.\n",
            "\n",
            "Epoch 00027: ReduceLROnPlateau reducing learning rate to 9.999999747378752e-06.\n",
            "\n",
            "Epoch 00025: ReduceLROnPlateau reducing learning rate to 9.999999747378752e-06.\n",
            "\n",
            "Epoch 00031: ReduceLROnPlateau reducing learning rate to 9.999999747378752e-06.\n",
            "\n",
            "Epoch 00025: ReduceLROnPlateau reducing learning rate to 9.999999747378752e-06.\n",
            "\n",
            "Epoch 00009: ReduceLROnPlateau reducing learning rate to 0.0009999999776482583.\n",
            "\n",
            "Epoch 00011: ReduceLROnPlateau reducing learning rate to 0.0009999999776482583.\n",
            "\n",
            "Epoch 00010: ReduceLROnPlateau reducing learning rate to 0.0009999999776482583.\n",
            "\n",
            "Epoch 00009: ReduceLROnPlateau reducing learning rate to 0.0009999999776482583.\n",
            "\n",
            "Epoch 00010: ReduceLROnPlateau reducing learning rate to 0.0009999999776482583.\n",
            "\n",
            "Epoch 00009: ReduceLROnPlateau reducing learning rate to 0.0009999999776482583.\n",
            "\n",
            "Epoch 00009: ReduceLROnPlateau reducing learning rate to 0.0009999999776482583.\n",
            "\n",
            "Epoch 00010: ReduceLROnPlateau reducing learning rate to 0.0009999999776482583.\n",
            "\n",
            "Epoch 00011: ReduceLROnPlateau reducing learning rate to 0.0009999999776482583.\n",
            "\n",
            "Epoch 00011: ReduceLROnPlateau reducing learning rate to 0.0009999999776482583.\n",
            "\n",
            "Epoch 00025: ReduceLROnPlateau reducing learning rate to 0.00010000000474974513.\n",
            "\n",
            "Epoch 00022: ReduceLROnPlateau reducing learning rate to 0.00010000000474974513.\n",
            "\n",
            "Epoch 00024: ReduceLROnPlateau reducing learning rate to 0.00010000000474974513.\n",
            "\n",
            "Epoch 00030: ReduceLROnPlateau reducing learning rate to 0.00010000000474974513.\n",
            "\n",
            "Epoch 00025: ReduceLROnPlateau reducing learning rate to 0.00010000000474974513.\n",
            "\n",
            "Epoch 00026: ReduceLROnPlateau reducing learning rate to 0.00010000000474974513.\n",
            "\n",
            "Epoch 00029: ReduceLROnPlateau reducing learning rate to 0.00010000000474974513.\n",
            "\n",
            "Epoch 00022: ReduceLROnPlateau reducing learning rate to 0.00010000000474974513.\n",
            "\n",
            "Epoch 00024: ReduceLROnPlateau reducing learning rate to 0.00010000000474974513.\n",
            "\n",
            "Epoch 00021: ReduceLROnPlateau reducing learning rate to 0.00010000000474974513.\n",
            "\n",
            "Epoch 00019: ReduceLROnPlateau reducing learning rate to 0.00010000000474974513.\n",
            "\n",
            "Epoch 00012: ReduceLROnPlateau reducing learning rate to 0.00010000000474974513.\n",
            "\n",
            "Epoch 00014: ReduceLROnPlateau reducing learning rate to 0.00010000000474974513.\n",
            "\n",
            "Epoch 00015: ReduceLROnPlateau reducing learning rate to 0.00010000000474974513.\n",
            "\n",
            "Epoch 00014: ReduceLROnPlateau reducing learning rate to 0.00010000000474974513.\n",
            "\n",
            "Epoch 00015: ReduceLROnPlateau reducing learning rate to 0.00010000000474974513.\n",
            "\n",
            "Epoch 00015: ReduceLROnPlateau reducing learning rate to 0.00010000000474974513.\n",
            "\n",
            "Epoch 00012: ReduceLROnPlateau reducing learning rate to 0.00010000000474974513.\n",
            "\n",
            "Epoch 00015: ReduceLROnPlateau reducing learning rate to 0.00010000000474974513.\n",
            "\n",
            "Epoch 00017: ReduceLROnPlateau reducing learning rate to 0.00010000000474974513.\n",
            "\n",
            "Epoch 00010: ReduceLROnPlateau reducing learning rate to 0.0009999999776482583.\n",
            "\n",
            "Epoch 00009: ReduceLROnPlateau reducing learning rate to 0.0009999999776482583.\n",
            "\n",
            "Epoch 00011: ReduceLROnPlateau reducing learning rate to 0.0009999999776482583.\n",
            "\n",
            "Epoch 00009: ReduceLROnPlateau reducing learning rate to 0.0009999999776482583.\n",
            "\n",
            "Epoch 00009: ReduceLROnPlateau reducing learning rate to 0.0009999999776482583.\n",
            "\n",
            "Epoch 00011: ReduceLROnPlateau reducing learning rate to 0.0009999999776482583.\n",
            "\n",
            "Epoch 00012: ReduceLROnPlateau reducing learning rate to 0.0009999999776482583.\n",
            "\n",
            "Epoch 00010: ReduceLROnPlateau reducing learning rate to 0.0009999999776482583.\n",
            "\n",
            "Epoch 00011: ReduceLROnPlateau reducing learning rate to 0.0009999999776482583.\n",
            "\n",
            "Epoch 00010: ReduceLROnPlateau reducing learning rate to 0.0009999999776482583.\n",
            "\n",
            "Epoch 00008: ReduceLROnPlateau reducing learning rate to 0.0009999999776482583.\n",
            "\n",
            "Epoch 00009: ReduceLROnPlateau reducing learning rate to 0.0009999999776482583.\n",
            "\n",
            "Epoch 00008: ReduceLROnPlateau reducing learning rate to 0.0009999999776482583.\n",
            "\n",
            "Epoch 00008: ReduceLROnPlateau reducing learning rate to 0.0009999999776482583.\n",
            "\n",
            "Epoch 00008: ReduceLROnPlateau reducing learning rate to 0.0009999999776482583.\n",
            "\n",
            "Epoch 00009: ReduceLROnPlateau reducing learning rate to 0.0009999999776482583.\n",
            "\n",
            "Epoch 00008: ReduceLROnPlateau reducing learning rate to 0.0009999999776482583.\n",
            "\n",
            "Epoch 00009: ReduceLROnPlateau reducing learning rate to 0.0009999999776482583.\n",
            "\n",
            "Epoch 00008: ReduceLROnPlateau reducing learning rate to 0.0009999999776482583.\n",
            "\n",
            "Epoch 00008: ReduceLROnPlateau reducing learning rate to 0.0009999999776482583.\n",
            "\n",
            "Epoch 00013: ReduceLROnPlateau reducing learning rate to 0.00010000000474974513.\n",
            "\n",
            "Epoch 00012: ReduceLROnPlateau reducing learning rate to 0.00010000000474974513.\n",
            "\n",
            "Epoch 00013: ReduceLROnPlateau reducing learning rate to 0.00010000000474974513.\n",
            "\n",
            "Epoch 00010: ReduceLROnPlateau reducing learning rate to 0.00010000000474974513.\n",
            "\n",
            "Epoch 00011: ReduceLROnPlateau reducing learning rate to 0.00010000000474974513.\n",
            "\n",
            "Epoch 00011: ReduceLROnPlateau reducing learning rate to 0.00010000000474974513.\n",
            "\n",
            "Epoch 00015: ReduceLROnPlateau reducing learning rate to 0.00010000000474974513.\n",
            "\n",
            "Epoch 00010: ReduceLROnPlateau reducing learning rate to 0.00010000000474974513.\n",
            "\n",
            "Epoch 00014: ReduceLROnPlateau reducing learning rate to 0.00010000000474974513.\n",
            "\n",
            "Epoch 00011: ReduceLROnPlateau reducing learning rate to 0.00010000000474974513.\n"
          ],
          "name": "stdout"
        }
      ]
    },
    {
      "cell_type": "code",
      "metadata": {
        "id": "-gUnpjTaZADV",
        "outputId": "b5b0131c-0d43-4b3f-936f-032b3cd9eb6c",
        "colab": {
          "base_uri": "https://localhost:8080/",
          "height": 71
        }
      },
      "source": [
        "print(random_search.best_score_)\n",
        "print(random_search.best_params_)\n",
        "# print(random_search.best_estimator_)\n",
        "# print(random_search.cv_results_)"
      ],
      "execution_count": null,
      "outputs": [
        {
          "output_type": "stream",
          "text": [
            "0.7921337783336639\n",
            "{'n_layers': 0, 'n_densers': 126, 'learning_rate': 0.0001, 'epochs': 50, 'batch_size': 16, 'activation': 'relu'}\n"
          ],
          "name": "stdout"
        }
      ]
    },
    {
      "cell_type": "code",
      "metadata": {
        "id": "iaIQHMNgbZwA",
        "outputId": "fb32ab3f-1452-443d-dce4-544b166e2359",
        "colab": {
          "base_uri": "https://localhost:8080/",
          "height": 343
        }
      },
      "source": [
        "print(classification_report(y_test, random_search.best_estimator_.predict(X_test_tf.toarray())))"
      ],
      "execution_count": null,
      "outputs": [
        {
          "output_type": "stream",
          "text": [
            "WARNING:tensorflow:From /usr/local/lib/python3.6/dist-packages/tensorflow/python/keras/wrappers/scikit_learn.py:241: Sequential.predict_classes (from tensorflow.python.keras.engine.sequential) is deprecated and will be removed after 2021-01-01.\n",
            "Instructions for updating:\n",
            "Please use instead:* `np.argmax(model.predict(x), axis=-1)`,   if your model does multi-class classification   (e.g. if it uses a `softmax` last-layer activation).* `(model.predict(x) > 0.5).astype(\"int32\")`,   if your model does binary classification   (e.g. if it uses a `sigmoid` last-layer activation).\n",
            "              precision    recall  f1-score   support\n",
            "\n",
            "           0       0.72      0.79      0.75        42\n",
            "           1       0.86      0.46      0.60        39\n",
            "           2       1.00      0.61      0.76        31\n",
            "           3       0.75      0.46      0.57        39\n",
            "           4       0.75      0.73      0.74        49\n",
            "           5       0.68      0.81      0.74        37\n",
            "           6       0.77      0.96      0.86       170\n",
            "           7       0.94      0.79      0.86        42\n",
            "\n",
            "    accuracy                           0.78       449\n",
            "   macro avg       0.81      0.70      0.74       449\n",
            "weighted avg       0.79      0.78      0.77       449\n",
            "\n"
          ],
          "name": "stdout"
        }
      ]
    },
    {
      "cell_type": "code",
      "metadata": {
        "id": "51pYkHzWX2YT"
      },
      "source": [
        "best_model = random_search.best_estimator_"
      ],
      "execution_count": null,
      "outputs": []
    },
    {
      "cell_type": "code",
      "metadata": {
        "id": "C9IFoNdLdUDf"
      },
      "source": [
        "from sklearn.metrics import confusion_matrix"
      ],
      "execution_count": null,
      "outputs": []
    },
    {
      "cell_type": "code",
      "metadata": {
        "id": "uUbQzO7gdJT3",
        "outputId": "7e9d0b0a-4beb-4608-8890-07a4ed8a0b68",
        "colab": {
          "base_uri": "https://localhost:8080/",
          "height": 581
        }
      },
      "source": [
        "cm = confusion_matrix(y_test, random_search.predict(X_test_tf.toarray()))\n",
        "# or\n",
        "#cm = np.array([[1401,    0],[1112, 0]])\n",
        "plt.rcParams[\"figure.figsize\"] = (12,6)\n",
        "sns.heatmap(cm/np.sum(cm), annot=True, fmt='.2%', cmap='Blues_r', \n",
        "            xticklabels=le.classes_, yticklabels=le.classes_)"
      ],
      "execution_count": null,
      "outputs": [
        {
          "output_type": "execute_result",
          "data": {
            "text/plain": [
              "<matplotlib.axes._subplots.AxesSubplot at 0x7f0ea7cf6b38>"
            ]
          },
          "metadata": {
            "tags": []
          },
          "execution_count": 66
        },
        {
          "output_type": "display_data",
          "data": {
            "image/png": "[encoded data removed]",
            "text/plain": [
              "<Figure size 864x432 with 2 Axes>"
            ]
          },
          "metadata": {
            "tags": [],
            "needs_background": "light"
          }
        }
      ]
    },
    {
      "cell_type": "markdown",
      "metadata": {
        "id": "DA9PUDs0MPXg"
      },
      "source": [
        "# Experimentos: "
      ]
    },
    {
      "cell_type": "code",
      "metadata": {
        "id": "L7Tta5xM8FHr"
      },
      "source": [
        "# # The maximum number of words to be used. (most frequent)\n",
        "# MAX_NB_WORDS = 1000\n",
        "# # Max number of words in each complaint.\n",
        "# MAX_SEQUENCE_LENGTH = maxlen\n",
        "# # This is fixed.\n",
        "# EMBEDDING_DIM = 50\n",
        "\n",
        "# tokenizer = Tokenizer(num_words=MAX_NB_WORDS)\n",
        "# tokenizer.fit_on_texts(sentences_train)\n",
        "\n",
        "# X_train = tokenizer.texts_to_sequences(sentences_train)\n",
        "# X_test = tokenizer.texts_to_sequences(sentences_test)\n",
        "\n",
        "# vocab_size = len(tokenizer.word_index) + 1  # Adding 1 because of reserved 0 index\n",
        "\n",
        "# print(sentences_train[2])\n",
        "# print(X_train[2])\n",
        "\n",
        "# X_train = pad_sequences(X_train, maxlen=MAX_SEQUENCE_LENGTH)\n",
        "# X_test = pad_sequences(X_test, maxlen=MAX_SEQUENCE_LENGTH)\n",
        "\n",
        "# print(X_train[2, :])\n",
        "\n",
        "# def RNN():\n",
        "#   inputs= Input(name='inputs',shape=[MAX_SEQUENCE_LENGTH])\n",
        "#   layer = Embedding(MAX_NB_WORDS,EMBEDDING_DIM,input_length=MAX_SEQUENCE_LENGTH)(inputs)\n",
        "#   # layer = Bidirectional(LSTM(n_densers))(layer)\n",
        "#   layer = LSTM(126)(layer)\n",
        "#   layer = Dense(n_densers,name='FC1')(layer)\n",
        "#   layer = Activation('relu')(layer)\n",
        "#   layer = Dense(num_classes,name='out_layer')(layer)\n",
        "#   layer = Activation('softmax')(layer)\n",
        "#   model = Model(inputs=inputs,outputs=layer)\n",
        "#   return model\n",
        "\n",
        "# opt = Nadam(lr=learning_rate)\n",
        "# model = RNN()\n",
        "# model.summary()\n",
        "# model.compile(loss='categorical_crossentropy',optimizer=opt,metrics=['accuracy'])\n",
        "\n",
        "# earlyStopping = EarlyStopping(monitor='val_loss', patience=10, verbose=0, mode='min')\n",
        "# mcp_save = ModelCheckpoint('.mdl_wts.hdf5', save_best_only=True, monitor='val_loss', mode='min')\n",
        "# reduce_lr_loss = ReduceLROnPlateau(monitor='val_loss', factor=0.1, patience=7, verbose=1, epsilon=1e-4, mode='min')\n",
        "\n",
        "# history = model.fit(X_train, y_train,\n",
        "#                     epochs=epochs,\n",
        "#                     verbose=True,\n",
        "#                     validation_data=(X_test, y_test),\n",
        "#                     batch_size=100,\n",
        "#                     callbacks=[earlyStopping, mcp_save, reduce_lr_loss])\n",
        "# loss, accuracy = model.evaluate(X_train, y_train, verbose=False)\n",
        "# print(\"Training Accuracy: {:.4f}\".format(accuracy))\n",
        "# loss, accuracy = model.evaluate(X_test, y_test, verbose=False)\n",
        "# print(\"Testing Accuracy:  {:.4f}\".format(accuracy))\n",
        "# # plot_history(history)"
      ],
      "execution_count": null,
      "outputs": []
    },
    {
      "cell_type": "code",
      "metadata": {
        "id": "p1EBeRYBIaxC"
      },
      "source": [
        "# vectorizer = CountVectorizer()\n",
        "# vectorizer.fit(sentences_train)\n",
        "\n",
        "# X_train_ct = vectorizer.transform(sentences_train)\n",
        "# X_test_ct  = vectorizer.transform(sentences_test)\n",
        "\n",
        "# print(vectorizer.vocabulary_)"
      ],
      "execution_count": null,
      "outputs": []
    },
    {
      "cell_type": "code",
      "metadata": {
        "id": "iT5UI-10AxBV"
      },
      "source": [
        "vectorizer = TfidfVectorizer()\n",
        "vectorizer.fit(sentences_train)\n",
        "\n",
        "X_train_tf = vectorizer.transform(sentences_train)\n",
        "X_test_tf  = vectorizer.transform(sentences_test)\n",
        "\n",
        "# print(vectorizer.vocabulary_)"
      ],
      "execution_count": null,
      "outputs": []
    },
    {
      "cell_type": "markdown",
      "metadata": {
        "id": "dWva5KWvhBdu"
      },
      "source": [
        "## Execusão de varios algoritmos de ML para a escolha do melhor modelo "
      ]
    },
    {
      "cell_type": "code",
      "metadata": {
        "id": "B0QNswccXNiG",
        "outputId": "acc4f919-5a7d-432d-8c3f-b2b8dbd4000a",
        "colab": {
          "base_uri": "https://localhost:8080/",
          "height": 1000
        }
      },
      "source": [
        "mod = models(X_train_tf, y_train, X_test_tf, y_test)"
      ],
      "execution_count": null,
      "outputs": [
        {
          "output_type": "stream",
          "text": [
            "[0]Logistic Regression Training Accuracy:  0.9673348181143281\n",
            "[0]Logistic Regression Cross_val Accuracy:  0.7958098396904367\n",
            "[0]Logistic Regression Testing Accuracy:  0.7906458797327395\n",
            "              precision    recall  f1-score   support\n",
            "\n",
            "           0       0.66      0.69      0.67        42\n",
            "           1       0.76      0.67      0.71        39\n",
            "           2       0.90      0.87      0.89        31\n",
            "           3       0.72      0.59      0.65        39\n",
            "           4       0.68      0.65      0.67        49\n",
            "           5       0.70      0.86      0.77        37\n",
            "           6       0.86      0.90      0.88       170\n",
            "           7       0.85      0.79      0.81        42\n",
            "\n",
            "    accuracy                           0.79       449\n",
            "   macro avg       0.77      0.75      0.76       449\n",
            "weighted avg       0.79      0.79      0.79       449\n",
            "\n",
            "[1]KNeighborns Training Accuracy:  0.370452858203415\n",
            "[1]KNeighborns Training Cross_val Accuracy:  0.33110558319513544\n",
            "[1]KNeighborns Testing Accuracy:  0.37861915367483295\n",
            "              precision    recall  f1-score   support\n",
            "\n",
            "           0       0.33      0.02      0.04        42\n",
            "           1       0.00      0.00      0.00        39\n",
            "           2       0.00      0.00      0.00        31\n",
            "           3       0.00      0.00      0.00        39\n",
            "           4       0.00      0.00      0.00        49\n",
            "           5       0.00      0.00      0.00        37\n",
            "           6       0.38      0.99      0.55       170\n",
            "           7       0.00      0.00      0.00        42\n",
            "\n",
            "    accuracy                           0.38       449\n",
            "   macro avg       0.09      0.13      0.07       449\n",
            "weighted avg       0.17      0.38      0.21       449\n",
            "\n",
            "[2]SVC Linear Training Accuracy:  0.985894580549369\n",
            "[2]SVC Linear Training Cross_val Accuracy:  0.8091708126036483\n",
            "[2]SVC Linear Testing Accuracy:  0.8106904231625836\n",
            "              precision    recall  f1-score   support\n",
            "\n",
            "           0       0.67      0.76      0.71        42\n",
            "           1       0.83      0.64      0.72        39\n",
            "           2       0.92      0.77      0.84        31\n",
            "           3       0.73      0.62      0.67        39\n",
            "           4       0.74      0.76      0.75        49\n",
            "           5       0.73      0.86      0.79        37\n",
            "           6       0.85      0.93      0.89       170\n",
            "           7       0.97      0.76      0.85        42\n",
            "\n",
            "    accuracy                           0.81       449\n",
            "   macro avg       0.81      0.76      0.78       449\n",
            "weighted avg       0.82      0.81      0.81       449\n",
            "\n",
            "[3]SVC RBF Training Accuracy:  0.9925760950259837\n",
            "[3]SVC RBF Training Cross_val Accuracy:  0.5716307352128248\n",
            "[3]SVC RBF Testing Accuracy:  0.6458797327394209\n",
            "              precision    recall  f1-score   support\n",
            "\n",
            "           0       0.71      0.64      0.67        42\n",
            "           1       1.00      0.18      0.30        39\n",
            "           2       1.00      0.39      0.56        31\n",
            "           3       0.62      0.13      0.21        39\n",
            "           4       0.68      0.55      0.61        49\n",
            "           5       0.68      0.70      0.69        37\n",
            "           6       0.58      0.98      0.73       170\n",
            "           7       1.00      0.48      0.65        42\n",
            "\n",
            "    accuracy                           0.65       449\n",
            "   macro avg       0.78      0.51      0.55       449\n",
            "weighted avg       0.72      0.65      0.61       449\n",
            "\n",
            "[4]Decision Tree Training Accuracy:  0.9948032665181886\n",
            "[4]Decision Tree Training Cross_val Accuracy:  0.5159646213377557\n",
            "[4]Decision Tree Testing Accuracy:  0.5300668151447662\n",
            "              precision    recall  f1-score   support\n",
            "\n",
            "           0       0.37      0.43      0.40        42\n",
            "           1       0.41      0.31      0.35        39\n",
            "           2       0.50      0.35      0.42        31\n",
            "           3       0.35      0.36      0.35        39\n",
            "           4       0.52      0.49      0.51        49\n",
            "           5       0.27      0.38      0.32        37\n",
            "           6       0.71      0.75      0.73       170\n",
            "           7       0.56      0.43      0.49        42\n",
            "\n",
            "    accuracy                           0.53       449\n",
            "   macro avg       0.46      0.44      0.44       449\n",
            "weighted avg       0.53      0.53      0.53       449\n",
            "\n",
            "[5]Random Forest Training Accuracy:  0.9948032665181886\n",
            "[5]Random Forest Training Cross_val Accuracy:  0.5790105030403538\n",
            "[5]Random Forest Testing Accuracy:  0.6035634743875279\n",
            "              precision    recall  f1-score   support\n",
            "\n",
            "           0       0.64      0.43      0.51        42\n",
            "           1       0.83      0.13      0.22        39\n",
            "           2       0.82      0.45      0.58        31\n",
            "           3       0.50      0.13      0.20        39\n",
            "           4       0.66      0.51      0.57        49\n",
            "           5       0.65      0.65      0.65        37\n",
            "           6       0.56      0.96      0.71       170\n",
            "           7       0.89      0.38      0.53        42\n",
            "\n",
            "    accuracy                           0.60       449\n",
            "   macro avg       0.69      0.46      0.50       449\n",
            "weighted avg       0.65      0.60      0.56       449\n",
            "\n",
            "[6] Perceptron Training Accuracy:  0.9948032665181886\n",
            "[6] Perceptron Training Cross_val Accuracy:  0.779502487562189\n",
            "[6] Perceptron Testing accuracy:  0.779510022271715\n",
            "              precision    recall  f1-score   support\n",
            "\n",
            "           0       0.64      0.83      0.72        42\n",
            "           1       0.67      0.74      0.71        39\n",
            "           2       0.79      0.74      0.77        31\n",
            "           3       0.73      0.49      0.58        39\n",
            "           4       0.79      0.69      0.74        49\n",
            "           5       0.65      0.76      0.70        37\n",
            "           6       0.87      0.89      0.88       170\n",
            "           7       0.84      0.74      0.78        42\n",
            "\n",
            "    accuracy                           0.78       449\n",
            "   macro avg       0.75      0.74      0.74       449\n",
            "weighted avg       0.79      0.78      0.78       449\n",
            "\n",
            "[7] MultinomialNB Training Accuracy:  0.9910913140311804\n",
            "[7] MultinomialNB Training Cross_val Accuracy:  0.7334328358208955\n",
            "[7] MultinomialNB Testing accuracy:  0.7505567928730512\n",
            "              precision    recall  f1-score   support\n",
            "\n",
            "           0       0.64      0.83      0.72        42\n",
            "           1       0.67      0.74      0.71        39\n",
            "           2       0.79      0.74      0.77        31\n",
            "           3       0.73      0.49      0.58        39\n",
            "           4       0.79      0.69      0.74        49\n",
            "           5       0.65      0.76      0.70        37\n",
            "           6       0.87      0.89      0.88       170\n",
            "           7       0.84      0.74      0.78        42\n",
            "\n",
            "    accuracy                           0.78       449\n",
            "   macro avg       0.75      0.74      0.74       449\n",
            "weighted avg       0.79      0.78      0.78       449\n",
            "\n",
            "[8] BernoulliNB Training Accuracy:  0.8960653303637713\n",
            "[8] BernoulliNB Training Cross_val Accuracy:  0.6332393587617469\n",
            "[8] BernoulliNB Testing accuracy:  0.6570155902004454\n",
            "              precision    recall  f1-score   support\n",
            "\n",
            "           0       0.64      0.83      0.72        42\n",
            "           1       0.67      0.74      0.71        39\n",
            "           2       0.79      0.74      0.77        31\n",
            "           3       0.73      0.49      0.58        39\n",
            "           4       0.79      0.69      0.74        49\n",
            "           5       0.65      0.76      0.70        37\n",
            "           6       0.87      0.89      0.88       170\n",
            "           7       0.84      0.74      0.78        42\n",
            "\n",
            "    accuracy                           0.78       449\n",
            "   macro avg       0.75      0.74      0.74       449\n",
            "weighted avg       0.79      0.78      0.78       449\n",
            "\n",
            "[9] ComplementNB Training Accuracy:  0.9762435040831478\n",
            "[9] ComplementNB Training Cross_val Accuracy:  0.7646213377556661\n",
            "[9] ComplementNB Testing accuracy:  0.7661469933184856\n",
            "              precision    recall  f1-score   support\n",
            "\n",
            "           0       0.64      0.83      0.72        42\n",
            "           1       0.67      0.74      0.71        39\n",
            "           2       0.79      0.74      0.77        31\n",
            "           3       0.73      0.49      0.58        39\n",
            "           4       0.79      0.69      0.74        49\n",
            "           5       0.65      0.76      0.70        37\n",
            "           6       0.87      0.89      0.88       170\n",
            "           7       0.84      0.74      0.78        42\n",
            "\n",
            "    accuracy                           0.78       449\n",
            "   macro avg       0.75      0.74      0.74       449\n",
            "weighted avg       0.79      0.78      0.78       449\n",
            "\n",
            "[10] SGDClassifier Training Accuracy:  0.994060876020787\n",
            "[10] SGDClassifier Training Cross_val Accuracy:  0.8195854063018242\n",
            "[10] SGDClassifier Testing accuracy:  0.8129175946547884\n",
            "              precision    recall  f1-score   support\n",
            "\n",
            "           0       0.71      0.71      0.71        42\n",
            "           1       0.73      0.69      0.71        39\n",
            "           2       0.93      0.81      0.86        31\n",
            "           3       0.83      0.51      0.63        39\n",
            "           4       0.80      0.76      0.78        49\n",
            "           5       0.73      0.86      0.79        37\n",
            "           6       0.84      0.95      0.89       170\n",
            "           7       0.89      0.79      0.84        42\n",
            "\n",
            "    accuracy                           0.81       449\n",
            "   macro avg       0.81      0.76      0.78       449\n",
            "weighted avg       0.82      0.81      0.81       449\n",
            "\n",
            "SGDClassifier(alpha=0.0001, average=False, class_weight='balanced',\n",
            "              early_stopping=False, epsilon=0.1, eta0=0.0, fit_intercept=True,\n",
            "              l1_ratio=0.15, learning_rate='optimal', loss='hinge',\n",
            "              max_iter=1000, n_iter_no_change=5, n_jobs=None, penalty='l2',\n",
            "              power_t=0.5, random_state=0, shuffle=True, tol=0.001,\n",
            "              validation_fraction=0.1, verbose=0, warm_start=False)\n"
          ],
          "name": "stdout"
        }
      ]
    },
    {
      "cell_type": "markdown",
      "metadata": {
        "id": "VHWfZdv9gLSA"
      },
      "source": [
        "- O modelo que apresentou os melhores resultados foi o Stochastic Gradient Descent (SGD)."
      ]
    },
    {
      "cell_type": "markdown",
      "metadata": {
        "id": "o79qgZCWgUqz"
      },
      "source": [
        "## Escolhendo os melhores parâmetros para o Stochastic Gradient Descent (SGD) Classifier"
      ]
    },
    {
      "cell_type": "code",
      "metadata": {
        "id": "452HHs2KArIs"
      },
      "source": [
        "# load libraries\n",
        "from sklearn import decomposition, datasets\n",
        "from sklearn import tree\n",
        "from sklearn.pipeline import Pipeline\n",
        "from sklearn.preprocessing import StandardScaler\n",
        "from sklearn.model_selection import GridSearchCV\n",
        "\n",
        "# sc = StandardScaler()\n",
        "\n",
        "# pca = decomposition.PCA()\n",
        "\n",
        "# pipe = Pipeline(steps=[\n",
        "#                       ('sc', sc),\n",
        "#                       #   ('pca', pca),\n",
        "#                       ('SGD', mod)])\n",
        "\n",
        "parameters = {\n",
        "    'alpha': [1e-4, 1e-3, 1e-2, 1e-1, 1e0, 1e1, 1e2, 1e3],\n",
        "    'loss' : ['hinge', 'log', 'modified_huber', 'squared_hinge', 'perceptron'],\n",
        "    'max_iter': [1000, 2000], \n",
        "    'penalty': ['l2'],\n",
        "    'n_jobs': [-1],\n",
        "    'class_weight': ['balanced']\n",
        "}\n",
        "\n",
        "clf = GridSearchCV(mod, parameters, cv=10)"
      ],
      "execution_count": null,
      "outputs": []
    },
    {
      "cell_type": "code",
      "metadata": {
        "id": "gf0uJFNxqdwY",
        "outputId": "5c6442fe-1c48-4491-fc25-5e8ac06ee291",
        "colab": {
          "base_uri": "https://localhost:8080/",
          "height": 391
        }
      },
      "source": [
        "# Fit the grid search\n",
        "clf.fit(X_train_tf,y_train)"
      ],
      "execution_count": null,
      "outputs": [
        {
          "output_type": "execute_result",
          "data": {
            "text/plain": [
              "GridSearchCV(cv=10, error_score=nan,\n",
              "             estimator=SGDClassifier(alpha=0.0001, average=False,\n",
              "                                     class_weight='balanced',\n",
              "                                     early_stopping=False, epsilon=0.1,\n",
              "                                     eta0=0.0, fit_intercept=True,\n",
              "                                     l1_ratio=0.15, learning_rate='optimal',\n",
              "                                     loss='hinge', max_iter=1000,\n",
              "                                     n_iter_no_change=5, n_jobs=None,\n",
              "                                     penalty='l2', power_t=0.5, random_state=0,\n",
              "                                     shuffle=True, tol=0.001,\n",
              "                                     validation_fraction=...0,\n",
              "                                     warm_start=False),\n",
              "             iid='deprecated', n_jobs=None,\n",
              "             param_grid={'alpha': [0.0001, 0.001, 0.01, 0.1, 1.0, 10.0, 100.0,\n",
              "                                   1000.0],\n",
              "                         'class_weight': ['balanced'],\n",
              "                         'loss': ['hinge', 'log', 'modified_huber',\n",
              "                                  'squared_hinge', 'perceptron'],\n",
              "                         'max_iter': [1000, 2000], 'n_jobs': [-1],\n",
              "                         'penalty': ['l2']},\n",
              "             pre_dispatch='2*n_jobs', refit=True, return_train_score=False,\n",
              "             scoring=None, verbose=0)"
            ]
          },
          "metadata": {
            "tags": []
          },
          "execution_count": 72
        }
      ]
    },
    {
      "cell_type": "code",
      "metadata": {
        "id": "wlNY8vqhu2pC",
        "outputId": "965d2776-f9d9-4216-ee89-814b9a97a559",
        "colab": {
          "base_uri": "https://localhost:8080/",
          "height": 71
        }
      },
      "source": [
        "print(clf.best_estimator_.get_params())\n",
        "print(clf.best_score_)"
      ],
      "execution_count": null,
      "outputs": [
        {
          "output_type": "stream",
          "text": [
            "{'alpha': 0.001, 'average': False, 'class_weight': 'balanced', 'early_stopping': False, 'epsilon': 0.1, 'eta0': 0.0, 'fit_intercept': True, 'l1_ratio': 0.15, 'learning_rate': 'optimal', 'loss': 'modified_huber', 'max_iter': 1000, 'n_iter_no_change': 5, 'n_jobs': -1, 'penalty': 'l2', 'power_t': 0.5, 'random_state': 0, 'shuffle': True, 'tol': 0.001, 'validation_fraction': 0.1, 'verbose': 0, 'warm_start': False}\n",
            "0.8403482587064677\n"
          ],
          "name": "stdout"
        }
      ]
    },
    {
      "cell_type": "code",
      "metadata": {
        "id": "qUdjF8r0u4hw"
      },
      "source": [
        "# from sklearn.model_selection import cross_val_score\n",
        "# CV_Result = cross_val_score(clf, X_train_tf, y_train, cv=10, n_jobs=-1)\n",
        "# print(CV_Result)\n",
        "# print(CV_Result.mean())\n",
        "# print(CV_Result.std())"
      ],
      "execution_count": null,
      "outputs": []
    },
    {
      "cell_type": "code",
      "metadata": {
        "id": "7RYav4hZwjTw",
        "outputId": "e5b54b80-163a-4081-b266-4ff75d2f3e28",
        "colab": {
          "base_uri": "https://localhost:8080/",
          "height": 272
        }
      },
      "source": [
        "print(classification_report(y_test, clf.best_estimator_.predict(X_test_tf.toarray())))"
      ],
      "execution_count": null,
      "outputs": [
        {
          "output_type": "stream",
          "text": [
            "              precision    recall  f1-score   support\n",
            "\n",
            "           0       0.75      0.71      0.73        42\n",
            "           1       0.78      0.72      0.75        39\n",
            "           2       0.90      0.87      0.89        31\n",
            "           3       0.73      0.56      0.64        39\n",
            "           4       0.77      0.73      0.75        49\n",
            "           5       0.70      0.86      0.77        37\n",
            "           6       0.86      0.94      0.90       170\n",
            "           7       0.91      0.76      0.83        42\n",
            "\n",
            "    accuracy                           0.82       449\n",
            "   macro avg       0.80      0.77      0.78       449\n",
            "weighted avg       0.82      0.82      0.81       449\n",
            "\n"
          ],
          "name": "stdout"
        }
      ]
    },
    {
      "cell_type": "markdown",
      "metadata": {
        "id": "zYexeL3BgfXe"
      },
      "source": [
        "## Matriz de confusão  aplicada aos dados de teste"
      ]
    },
    {
      "cell_type": "code",
      "metadata": {
        "id": "H-Ic0n6Fwr1V",
        "outputId": "35afdb09-bbe9-4a14-9e07-48649a0278b4",
        "colab": {
          "base_uri": "https://localhost:8080/",
          "height": 581
        }
      },
      "source": [
        "cm = confusion_matrix(y_test, clf.best_estimator_.predict(X_test_tf.toarray()))\n",
        "# or\n",
        "plt.rcParams[\"figure.figsize\"] = (12,6)\n",
        "sns.heatmap(cm/np.sum(cm), annot=True, fmt='.2%', cmap='Blues_r',\n",
        "            xticklabels=le.classes_, yticklabels=le.classes_)"
      ],
      "execution_count": null,
      "outputs": [
        {
          "output_type": "execute_result",
          "data": {
            "text/plain": [
              "<matplotlib.axes._subplots.AxesSubplot at 0x7f0ea67332e8>"
            ]
          },
          "metadata": {
            "tags": []
          },
          "execution_count": 76
        },
        {
          "output_type": "display_data",
          "data": {
            "image/png": "[encoded data removed]",
            "text/plain": [
              "<Figure size 864x432 with 2 Axes>"
            ]
          },
          "metadata": {
            "tags": [],
            "needs_background": "light"
          }
        }
      ]
    },
    {
      "cell_type": "markdown",
      "metadata": {
        "id": "kZT0B1kSgyrG"
      },
      "source": [
        "## Matriz de confusão aplicado a dados novos"
      ]
    },
    {
      "cell_type": "code",
      "metadata": {
        "id": "3yaG_O25yDdM",
        "outputId": "61c43baa-1da4-4acc-e39b-2a3b0aa31a87",
        "colab": {
          "base_uri": "https://localhost:8080/",
          "height": 581
        }
      },
      "source": [
        "test = vectorizer.transform(df_test['text_stem'].values)\n",
        "cm = confusion_matrix(df_test['target'].values, clf.best_estimator_.predict(test.toarray()))\n",
        "# or\n",
        "plt.rcParams[\"figure.figsize\"] = (12,6)\n",
        "sns.heatmap(cm/np.sum(cm), annot=True, fmt='.2%', cmap='Blues_r', \n",
        "            xticklabels=le.classes_, yticklabels=le.classes_)"
      ],
      "execution_count": null,
      "outputs": [
        {
          "output_type": "execute_result",
          "data": {
            "text/plain": [
              "<matplotlib.axes._subplots.AxesSubplot at 0x7f0ea7cd5fd0>"
            ]
          },
          "metadata": {
            "tags": []
          },
          "execution_count": 77
        },
        {
          "output_type": "display_data",
          "data": {
            "image/png": "[encoded data removed]",
            "text/plain": [
              "<Figure size 864x432 with 2 Axes>"
            ]
          },
          "metadata": {
            "tags": [],
            "needs_background": "light"
          }
        }
      ]
    },
    {
      "cell_type": "code",
      "metadata": {
        "id": "MfqS-OGFzFqL",
        "outputId": "60457892-5392-4f9a-dc87-53a31a844403",
        "colab": {
          "base_uri": "https://localhost:8080/",
          "height": 170
        }
      },
      "source": [
        "clf.best_estimator_.predict(test.toarray())"
      ],
      "execution_count": null,
      "outputs": [
        {
          "output_type": "execute_result",
          "data": {
            "text/plain": [
              "array([0, 6, 0, 0, 5, 4, 4, 1, 4, 1, 0, 0, 0, 0, 0, 0, 0, 0, 4, 0, 0, 0,\n",
              "       0, 5, 5, 2, 2, 2, 2, 6, 2, 2, 5, 2, 2, 2, 2, 5, 6, 6, 6, 6, 0, 0,\n",
              "       0, 0, 6, 0, 3, 3, 3, 3, 6, 3, 3, 6, 0, 6, 1, 1, 1, 1, 6, 1, 1, 6,\n",
              "       6, 2, 6, 1, 5, 1, 6, 4, 4, 0, 4, 4, 4, 2, 4, 4, 4, 4, 4, 4, 4, 4,\n",
              "       4, 4, 5, 4, 6, 5, 0, 0, 6, 5, 0, 5, 0, 6, 0, 6, 0, 5, 5, 0, 0, 7,\n",
              "       6, 6, 6, 7, 6, 6, 6, 0, 6, 6, 6, 6, 6, 6, 6, 6, 6, 7, 3, 6, 7, 6,\n",
              "       7, 6, 6, 5, 6, 6, 1, 6, 6, 6, 6, 1, 6, 1, 6, 6, 6, 6, 6, 6, 6, 6,\n",
              "       6, 6, 6, 6, 6, 6, 6, 1, 6, 6, 6, 6, 6, 0, 0, 0, 0, 3, 0, 0, 6, 0,\n",
              "       0, 7, 7, 6, 7, 7, 0, 7, 0, 7, 3, 7, 7, 7, 7])"
            ]
          },
          "metadata": {
            "tags": []
          },
          "execution_count": 78
        }
      ]
    },
    {
      "cell_type": "code",
      "metadata": {
        "id": "6v94L-QRwtuk"
      },
      "source": [
        "prediction = clf.best_estimator_.predict(test.toarray())\n",
        "for i in range(100):\n",
        "  # print(df_test.loc[i, 'text'][:150], \"...\")\n",
        "  print('Actual label:' + str(le.classes_[df_test.loc[i, 'target']]))\n",
        "  print(\"Predicted label: \" + str(le.classes_[prediction[i]]) + \"\\n\") "
      ],
      "execution_count": null,
      "outputs": []
    },
    {
      "cell_type": "markdown",
      "metadata": {
        "id": "dhPsTXHRcYA_"
      },
      "source": [
        "#### Escolhendo o melhores parâmentros para o SVC"
      ]
    },
    {
      "cell_type": "code",
      "metadata": {
        "id": "oHFercT24wFB"
      },
      "source": [
        "from sklearn.svm import SVC\n",
        "mod1 = SVC(kernel='linear', random_state = 0, class_weight='balanced')"
      ],
      "execution_count": null,
      "outputs": []
    },
    {
      "cell_type": "code",
      "metadata": {
        "id": "Cuz5jR-w41vB",
        "outputId": "e6907e19-774f-4016-a281-f062576ab8f9",
        "colab": {
          "base_uri": "https://localhost:8080/",
          "height": 105
        }
      },
      "source": [
        "mod1.get_params"
      ],
      "execution_count": null,
      "outputs": [
        {
          "output_type": "execute_result",
          "data": {
            "text/plain": [
              "<bound method BaseEstimator.get_params of SVC(C=1.0, break_ties=False, cache_size=200, class_weight='balanced', coef0=0.0,\n",
              "    decision_function_shape='ovr', degree=3, gamma='scale', kernel='linear',\n",
              "    max_iter=-1, probability=False, random_state=0, shrinking=True, tol=0.001,\n",
              "    verbose=False)>"
            ]
          },
          "metadata": {
            "tags": []
          },
          "execution_count": 82
        }
      ]
    },
    {
      "cell_type": "code",
      "metadata": {
        "id": "QkbuIzIUID0z"
      },
      "source": [
        "from scipy.stats import uniform"
      ],
      "execution_count": null,
      "outputs": []
    },
    {
      "cell_type": "code",
      "metadata": {
        "id": "JBTYbYwn53gi"
      },
      "source": [
        "parameters = {\n",
        "    'class_weight': ['balanced'],\n",
        "    'C': [0.01, 0.1, 1, 10],\n",
        "    'kernel': ['linear', 'sigmoid'],\n",
        "    'coef0': [1, 0],\n",
        "    'decision_function_shape': ['ovo', 'ovr']\n",
        "}\n",
        "\n",
        "clf = GridSearchCV(mod1, parameters, cv=10)"
      ],
      "execution_count": null,
      "outputs": []
    },
    {
      "cell_type": "code",
      "metadata": {
        "id": "ZuAD_KBPIEyp",
        "outputId": "fa41d146-e1c5-4ed2-d32a-3bffff75a380",
        "colab": {
          "base_uri": "https://localhost:8080/",
          "height": 255
        }
      },
      "source": [
        "clf.fit(X_train_tf,y_train)"
      ],
      "execution_count": null,
      "outputs": [
        {
          "output_type": "execute_result",
          "data": {
            "text/plain": [
              "GridSearchCV(cv=10, error_score=nan,\n",
              "             estimator=SVC(C=1.0, break_ties=False, cache_size=200,\n",
              "                           class_weight='balanced', coef0=0.0,\n",
              "                           decision_function_shape='ovr', degree=3,\n",
              "                           gamma='scale', kernel='linear', max_iter=-1,\n",
              "                           probability=False, random_state=0, shrinking=True,\n",
              "                           tol=0.001, verbose=False),\n",
              "             iid='deprecated', n_jobs=None,\n",
              "             param_grid={'C': [0.01, 0.1, 1, 10], 'class_weight': ['balanced'],\n",
              "                         'coef0': [1, 0],\n",
              "                         'decision_function_shape': ['ovo', 'ovr'],\n",
              "                         'kernel': ['linear', 'sigmoid']},\n",
              "             pre_dispatch='2*n_jobs', refit=True, return_train_score=False,\n",
              "             scoring=None, verbose=0)"
            ]
          },
          "metadata": {
            "tags": []
          },
          "execution_count": 93
        }
      ]
    },
    {
      "cell_type": "code",
      "metadata": {
        "id": "-Iv_4Y8_JQUy",
        "outputId": "466ac59a-f736-4b7d-a97b-c8e6fe3deae7",
        "colab": {
          "base_uri": "https://localhost:8080/",
          "height": 71
        }
      },
      "source": [
        "print(clf.best_estimator_.get_params())\n",
        "print(clf.best_score_)"
      ],
      "execution_count": null,
      "outputs": [
        {
          "output_type": "stream",
          "text": [
            "{'C': 1, 'break_ties': False, 'cache_size': 200, 'class_weight': 'balanced', 'coef0': 0, 'decision_function_shape': 'ovo', 'degree': 3, 'gamma': 'scale', 'kernel': 'sigmoid', 'max_iter': -1, 'probability': False, 'random_state': 0, 'shrinking': True, 'tol': 0.001, 'verbose': False}\n",
            "0.811420674405749\n"
          ],
          "name": "stdout"
        }
      ]
    },
    {
      "cell_type": "code",
      "metadata": {
        "id": "d9hEtco4JYhb",
        "outputId": "f5869edd-1918-4db0-b120-0a32131c8e7d",
        "colab": {
          "base_uri": "https://localhost:8080/",
          "height": 272
        }
      },
      "source": [
        "print(classification_report(y_test, clf.best_estimator_.predict(X_test_tf.toarray())))"
      ],
      "execution_count": null,
      "outputs": [
        {
          "output_type": "stream",
          "text": [
            "              precision    recall  f1-score   support\n",
            "\n",
            "           0       0.68      0.76      0.72        42\n",
            "           1       0.78      0.74      0.76        39\n",
            "           2       0.89      0.77      0.83        31\n",
            "           3       0.73      0.62      0.67        39\n",
            "           4       0.78      0.78      0.78        49\n",
            "           5       0.71      0.86      0.78        37\n",
            "           6       0.87      0.91      0.89       170\n",
            "           7       0.94      0.76      0.84        42\n",
            "\n",
            "    accuracy                           0.81       449\n",
            "   macro avg       0.80      0.78      0.78       449\n",
            "weighted avg       0.82      0.81      0.81       449\n",
            "\n"
          ],
          "name": "stdout"
        }
      ]
    },
    {
      "cell_type": "code",
      "metadata": {
        "id": "1OuIvkScJb_e",
        "outputId": "cea4595f-d421-4184-9bfb-428c0738980b",
        "colab": {
          "base_uri": "https://localhost:8080/",
          "height": 581
        }
      },
      "source": [
        "cm2 = confusion_matrix(y_test, clf.best_estimator_.predict(X_test_tf.toarray()))\n",
        "# or\n",
        "plt.rcParams[\"figure.figsize\"] = (12,6)\n",
        "sns.heatmap(cm/np.sum(cm2), annot=True, fmt='.2%', cmap='Blues_r',\n",
        "            xticklabels=le.classes_, yticklabels=le.classes_)"
      ],
      "execution_count": null,
      "outputs": [
        {
          "output_type": "execute_result",
          "data": {
            "text/plain": [
              "<matplotlib.axes._subplots.AxesSubplot at 0x7f0e9f2af828>"
            ]
          },
          "metadata": {
            "tags": []
          },
          "execution_count": 96
        },
        {
          "output_type": "display_data",
          "data": {
            "image/png": "[encoded data removed]",
            "text/plain": [
              "<Figure size 864x432 with 2 Axes>"
            ]
          },
          "metadata": {
            "tags": [],
            "needs_background": "light"
          }
        }
      ]
    },
    {
      "cell_type": "code",
      "metadata": {
        "id": "GmPnRM6yc_A3"
      },
      "source": [
        "fig = plt.figure()\n",
        "ax1 = fig.add_subplot(211)\n",
        "ax2 = fig.add_subplot(212)\n",
        "\n",
        "# Tell pointplot to plot on ax1 with the ax argument\n",
        "sns.heatmap(cm/np.sum(cm), annot=True, fmt='.2%', cmap='Blues_r',\n",
        "            xticklabels=le.classes_, yticklabels=le.classes_, ax=ax1)\n",
        "\n",
        "# Tell the factorplot to plot on ax2 with the ax argument\n",
        "# Also store the FacetGrid in 'g'\n",
        "# g=sns.factorplot(x=\"x\", y=\"y\", data=data, ax=ax2)\n",
        "sns.heatmap(cm/np.sum(cm), annot=True, fmt='.2%', cmap='Blues_r',\n",
        "            xticklabels=le.classes_, yticklabels=le.classes_, ax=ax2)\n",
        "\n",
        "# Close the FacetGrid figure which we don't need (g.fig)\n",
        "# plt.close(g.fig)\n",
        "\n",
        "plt.show()"
      ],
      "execution_count": null,
      "outputs": []
    }
  ]
}